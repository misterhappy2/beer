{
 "cells": [
  {
   "cell_type": "code",
   "execution_count": 1,
   "metadata": {},
   "outputs": [
    {
     "data": {
      "text/html": [
       "<div>\n",
       "<style>\n",
       "    .dataframe thead tr:only-child th {\n",
       "        text-align: right;\n",
       "    }\n",
       "\n",
       "    .dataframe thead th {\n",
       "        text-align: left;\n",
       "    }\n",
       "\n",
       "    .dataframe tbody tr th {\n",
       "        vertical-align: top;\n",
       "    }\n",
       "</style>\n",
       "<table border=\"1\" class=\"dataframe\">\n",
       "  <thead>\n",
       "    <tr style=\"text-align: right;\">\n",
       "      <th></th>\n",
       "      <th>name</th>\n",
       "      <th>brewery</th>\n",
       "      <th>style</th>\n",
       "      <th>rating</th>\n",
       "      <th>words</th>\n",
       "    </tr>\n",
       "  </thead>\n",
       "  <tbody>\n",
       "    <tr>\n",
       "      <th>0</th>\n",
       "      <td>Grove 1.0</td>\n",
       "      <td>Deciduous Brewing Company</td>\n",
       "      <td>American Pale Ale (APA)</td>\n",
       "      <td>3.90</td>\n",
       "      <td>thick and lasting head. good ring lace on the glass. very cloudy with an orange-amber color. grapefruit rind and faint alcohol aroma. fruity base smell. the pale malt base is solid -- it holds of the strong piney hop to the point of the swallow. long bitter aftertaste, biting. rich body with mut...</td>\n",
       "    </tr>\n",
       "    <tr>\n",
       "      <th>1</th>\n",
       "      <td>Demolition Dubbel</td>\n",
       "      <td>Chama River Brewing Company</td>\n",
       "      <td>Dubbel</td>\n",
       "      <td>3.75</td>\n",
       "      <td></td>\n",
       "    </tr>\n",
       "    <tr>\n",
       "      <th>2</th>\n",
       "      <td>One-Hopper IPA - Warrior</td>\n",
       "      <td>Willoughby Brewing</td>\n",
       "      <td>American IPA</td>\n",
       "      <td>3.99</td>\n",
       "      <td>had on tap in the brew pub last night a: tan amber color with a slight froathy head with little retention s: obviose earthly hop nose with hint of malt t: hop dominated flavor. malt and alchohol work into the pallate. not very complex m&amp;d: full mouthfeel, slightly chewy. could drink 2 or 3... b...</td>\n",
       "    </tr>\n",
       "    <tr>\n",
       "      <th>3</th>\n",
       "      <td>Smoke'n Magic</td>\n",
       "      <td>Jopen Bier BV Haarlem</td>\n",
       "      <td>Smoked Beer</td>\n",
       "      <td>3.88</td>\n",
       "      <td></td>\n",
       "    </tr>\n",
       "    <tr>\n",
       "      <th>4</th>\n",
       "      <td>Blondetanamo Bay</td>\n",
       "      <td>Barebottle Brewing Company</td>\n",
       "      <td>Belgian Pale Ale</td>\n",
       "      <td>3.81</td>\n",
       "      <td>appearance:  light golden hue with a fair bit of haze and a thin layer of white foam. smell:  sweet, malty aroma with a lightly pear-like belgian character.  it's nice! taste:  pear, malt and something else. alcohol heat? general spiciness? it's good, but i feel like it could be cleaned up a lit...</td>\n",
       "    </tr>\n",
       "  </tbody>\n",
       "</table>\n",
       "</div>"
      ],
      "text/plain": [
       "                       name                      brewery  \\\n",
       "0                 Grove 1.0    Deciduous Brewing Company   \n",
       "1         Demolition Dubbel  Chama River Brewing Company   \n",
       "2  One-Hopper IPA - Warrior           Willoughby Brewing   \n",
       "3             Smoke'n Magic        Jopen Bier BV Haarlem   \n",
       "4          Blondetanamo Bay   Barebottle Brewing Company   \n",
       "\n",
       "                     style  rating  \\\n",
       "0  American Pale Ale (APA)    3.90   \n",
       "1                   Dubbel    3.75   \n",
       "2             American IPA    3.99   \n",
       "3              Smoked Beer    3.88   \n",
       "4         Belgian Pale Ale    3.81   \n",
       "\n",
       "                                                                                                                                                                                                                                                                                                         words  \n",
       "0  thick and lasting head. good ring lace on the glass. very cloudy with an orange-amber color. grapefruit rind and faint alcohol aroma. fruity base smell. the pale malt base is solid -- it holds of the strong piney hop to the point of the swallow. long bitter aftertaste, biting. rich body with mut...  \n",
       "1                                                                                                                                                                                                                                                                                                               \n",
       "2   had on tap in the brew pub last night a: tan amber color with a slight froathy head with little retention s: obviose earthly hop nose with hint of malt t: hop dominated flavor. malt and alchohol work into the pallate. not very complex m&d: full mouthfeel, slightly chewy. could drink 2 or 3... b...  \n",
       "3                                                                                                                                                                                                                                                                                                               \n",
       "4  appearance:  light golden hue with a fair bit of haze and a thin layer of white foam. smell:  sweet, malty aroma with a lightly pear-like belgian character.  it's nice! taste:  pear, malt and something else. alcohol heat? general spiciness? it's good, but i feel like it could be cleaned up a lit...  "
      ]
     },
     "execution_count": 1,
     "metadata": {},
     "output_type": "execute_result"
    }
   ],
   "source": [
    "import Beer\n",
    "from BeerScraper import create_data\n",
    "import numpy as np\n",
    "import pandas as pd\n",
    "from sklearn.feature_extraction.text import TfidfTransformer\n",
    "from bs4 import BeautifulSoup\n",
    "import requests\n",
    "import re\n",
    "import nltk\n",
    "\n",
    "pd.set_option('max_colwidth', 300)\n",
    "df= create_data(100)\n",
    "names = ['name','brewery','style','rating','words']\n",
    "df = df[names]\n",
    "df.head()"
   ]
  },
  {
   "cell_type": "code",
   "execution_count": 2,
   "metadata": {
    "collapsed": true
   },
   "outputs": [],
   "source": [
    "df.to_csv('beer.csv', header=True, index=False)"
   ]
  },
  {
   "cell_type": "code",
   "execution_count": 3,
   "metadata": {},
   "outputs": [
    {
     "data": {
      "text/html": [
       "<div>\n",
       "<style>\n",
       "    .dataframe thead tr:only-child th {\n",
       "        text-align: right;\n",
       "    }\n",
       "\n",
       "    .dataframe thead th {\n",
       "        text-align: left;\n",
       "    }\n",
       "\n",
       "    .dataframe tbody tr th {\n",
       "        vertical-align: top;\n",
       "    }\n",
       "</style>\n",
       "<table border=\"1\" class=\"dataframe\">\n",
       "  <thead>\n",
       "    <tr style=\"text-align: right;\">\n",
       "      <th></th>\n",
       "      <th>name</th>\n",
       "      <th>brewery</th>\n",
       "      <th>style</th>\n",
       "      <th>rating</th>\n",
       "      <th>words</th>\n",
       "    </tr>\n",
       "  </thead>\n",
       "  <tbody>\n",
       "    <tr>\n",
       "      <th>0</th>\n",
       "      <td>Grove 1.0</td>\n",
       "      <td>Deciduous Brewing Company</td>\n",
       "      <td>American Pale Ale (APA)</td>\n",
       "      <td>3.90</td>\n",
       "      <td>thick and lasting head. good ring lace on the glass. very cloudy with an orange-amber color. grapefruit rind and faint alcohol aroma. fruity base smell. the pale malt base is solid -- it holds of the strong piney hop to the point of the swallow. long bitter aftertaste, biting. rich body with mut...</td>\n",
       "    </tr>\n",
       "    <tr>\n",
       "      <th>1</th>\n",
       "      <td>Demolition Dubbel</td>\n",
       "      <td>Chama River Brewing Company</td>\n",
       "      <td>Dubbel</td>\n",
       "      <td>3.75</td>\n",
       "      <td></td>\n",
       "    </tr>\n",
       "    <tr>\n",
       "      <th>2</th>\n",
       "      <td>One-Hopper IPA - Warrior</td>\n",
       "      <td>Willoughby Brewing</td>\n",
       "      <td>American IPA</td>\n",
       "      <td>3.99</td>\n",
       "      <td>had on tap in the brew pub last night a: tan amber color with a slight froathy head with little retention s: obviose earthly hop nose with hint of malt t: hop dominated flavor. malt and alchohol work into the pallate. not very complex m&amp;d: full mouthfeel, slightly chewy. could drink 2 or 3... b...</td>\n",
       "    </tr>\n",
       "    <tr>\n",
       "      <th>3</th>\n",
       "      <td>Smoke'n Magic</td>\n",
       "      <td>Jopen Bier BV Haarlem</td>\n",
       "      <td>Smoked Beer</td>\n",
       "      <td>3.88</td>\n",
       "      <td></td>\n",
       "    </tr>\n",
       "    <tr>\n",
       "      <th>4</th>\n",
       "      <td>Blondetanamo Bay</td>\n",
       "      <td>Barebottle Brewing Company</td>\n",
       "      <td>Belgian Pale Ale</td>\n",
       "      <td>3.81</td>\n",
       "      <td>appearance:  light golden hue with a fair bit of haze and a thin layer of white foam. smell:  sweet, malty aroma with a lightly pear-like belgian character.  it's nice! taste:  pear, malt and something else. alcohol heat? general spiciness? it's good, but i feel like it could be cleaned up a lit...</td>\n",
       "    </tr>\n",
       "  </tbody>\n",
       "</table>\n",
       "</div>"
      ],
      "text/plain": [
       "                       name                      brewery  \\\n",
       "0                 Grove 1.0    Deciduous Brewing Company   \n",
       "1         Demolition Dubbel  Chama River Brewing Company   \n",
       "2  One-Hopper IPA - Warrior           Willoughby Brewing   \n",
       "3             Smoke'n Magic        Jopen Bier BV Haarlem   \n",
       "4          Blondetanamo Bay   Barebottle Brewing Company   \n",
       "\n",
       "                     style  rating  \\\n",
       "0  American Pale Ale (APA)    3.90   \n",
       "1                   Dubbel    3.75   \n",
       "2             American IPA    3.99   \n",
       "3              Smoked Beer    3.88   \n",
       "4         Belgian Pale Ale    3.81   \n",
       "\n",
       "                                                                                                                                                                                                                                                                                                         words  \n",
       "0  thick and lasting head. good ring lace on the glass. very cloudy with an orange-amber color. grapefruit rind and faint alcohol aroma. fruity base smell. the pale malt base is solid -- it holds of the strong piney hop to the point of the swallow. long bitter aftertaste, biting. rich body with mut...  \n",
       "1                                                                                                                                                                                                                                                                                                               \n",
       "2   had on tap in the brew pub last night a: tan amber color with a slight froathy head with little retention s: obviose earthly hop nose with hint of malt t: hop dominated flavor. malt and alchohol work into the pallate. not very complex m&d: full mouthfeel, slightly chewy. could drink 2 or 3... b...  \n",
       "3                                                                                                                                                                                                                                                                                                               \n",
       "4  appearance:  light golden hue with a fair bit of haze and a thin layer of white foam. smell:  sweet, malty aroma with a lightly pear-like belgian character.  it's nice! taste:  pear, malt and something else. alcohol heat? general spiciness? it's good, but i feel like it could be cleaned up a lit...  "
      ]
     },
     "execution_count": 3,
     "metadata": {},
     "output_type": "execute_result"
    }
   ],
   "source": [
    "new_df=pd.read_csv('beer.csv', header='infer')\n",
    "new_df.head()"
   ]
  },
  {
   "cell_type": "code",
   "execution_count": 5,
   "metadata": {},
   "outputs": [
    {
     "name": "stdout",
     "output_type": "stream",
     "text": [
      " had on tap in the brew pub last night a: tan amber color with a slight froathy head with little retention s: obviose earthly hop nose with hint of malt t: hop dominated flavor. malt and alchohol work into the pallate. not very complex m&d: full mouthfeel, slightly chewy. could drink 2 or 3... but deffinatly not a session beer not a bad choice if visiting the pub. i wish it had a bit more citrus bite. a totally drinkable treat. pretty in the glass - light reddish brown, slightly cloudy. hoppy out the wazzoo - all one hops, they say - warrior. huge, pleasant hops aftertaste. it's a fairly big beer, and they (over) charged me $15 for a growler ($16 with the tip, don't they know there's a recession going on?). other than a sampler, i don't see any reason to drink another beer at wbc. drink it while they have it. there has been no indication they will make this again, but i highly recommend they continue. \n"
     ]
    }
   ],
   "source": [
    "print(df['words'][2])"
   ]
  },
  {
   "cell_type": "code",
   "execution_count": null,
   "metadata": {
    "collapsed": true
   },
   "outputs": [],
   "source": []
  }
 ],
 "metadata": {
  "kernelspec": {
   "display_name": "Python 3",
   "language": "python",
   "name": "python3"
  },
  "language_info": {
   "codemirror_mode": {
    "name": "ipython",
    "version": 3
   },
   "file_extension": ".py",
   "mimetype": "text/x-python",
   "name": "python",
   "nbconvert_exporter": "python",
   "pygments_lexer": "ipython3",
   "version": "3.6.3"
  }
 },
 "nbformat": 4,
 "nbformat_minor": 2
}
