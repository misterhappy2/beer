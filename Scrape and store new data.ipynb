{
 "cells": [
  {
   "cell_type": "markdown",
   "metadata": {},
   "source": [
    "<h3> SCRAPE AND STORE NEW DATA  </h3>  \n",
    "<h4> Using Beer and BeerScraper, collect data from BeerAdvocate, store it in a dataframe, save as a csv file.  </h4>  "
   ]
  },
  {
   "cell_type": "code",
   "execution_count": 2,
   "metadata": {},
   "outputs": [
    {
     "ename": "IndexError",
     "evalue": "list index out of range",
     "output_type": "error",
     "traceback": [
      "\u001b[0;31m---------------------------------------------------------------------------\u001b[0m",
      "\u001b[0;31mIndexError\u001b[0m                                Traceback (most recent call last)",
      "\u001b[0;32m<ipython-input-2-3d98ad45d589>\u001b[0m in \u001b[0;36m<module>\u001b[0;34m()\u001b[0m\n\u001b[1;32m     18\u001b[0m \u001b[0;31m# write the file to beer.csv, and start over if more data needed.\u001b[0m\u001b[0;34m\u001b[0m\u001b[0;34m\u001b[0m\u001b[0m\n\u001b[1;32m     19\u001b[0m \u001b[0;32mfor\u001b[0m \u001b[0mi\u001b[0m \u001b[0;32min\u001b[0m \u001b[0mrange\u001b[0m\u001b[0;34m(\u001b[0m\u001b[0;36m100\u001b[0m\u001b[0;34m)\u001b[0m\u001b[0;34m:\u001b[0m\u001b[0;34m\u001b[0m\u001b[0m\n\u001b[0;32m---> 20\u001b[0;31m     \u001b[0mtemp_df\u001b[0m \u001b[0;34m=\u001b[0m \u001b[0mcreate_data\u001b[0m\u001b[0;34m(\u001b[0m\u001b[0;36m20\u001b[0m\u001b[0;34m)\u001b[0m\u001b[0;34m\u001b[0m\u001b[0m\n\u001b[0m\u001b[1;32m     21\u001b[0m     \u001b[0mtemp_df\u001b[0m \u001b[0;34m=\u001b[0m \u001b[0mtemp_df\u001b[0m\u001b[0;34m[\u001b[0m\u001b[0mtitles\u001b[0m\u001b[0;34m]\u001b[0m\u001b[0;34m\u001b[0m\u001b[0m\n\u001b[1;32m     22\u001b[0m     \u001b[0mbeer_df\u001b[0m \u001b[0;34m=\u001b[0m \u001b[0mpd\u001b[0m\u001b[0;34m.\u001b[0m\u001b[0mconcat\u001b[0m\u001b[0;34m(\u001b[0m\u001b[0;34m[\u001b[0m\u001b[0mbeer_df\u001b[0m\u001b[0;34m,\u001b[0m\u001b[0mtemp_df\u001b[0m\u001b[0;34m]\u001b[0m\u001b[0;34m,\u001b[0m \u001b[0mignore_index\u001b[0m\u001b[0;34m=\u001b[0m\u001b[0;32mTrue\u001b[0m\u001b[0;34m)\u001b[0m\u001b[0;34m\u001b[0m\u001b[0m\n",
      "\u001b[0;32m~/beer/BeerScraper.py\u001b[0m in \u001b[0;36mcreate_data\u001b[0;34m(n_samples)\u001b[0m\n\u001b[1;32m     12\u001b[0m     \u001b[0mdata\u001b[0m \u001b[0;34m=\u001b[0m \u001b[0mpd\u001b[0m\u001b[0;34m.\u001b[0m\u001b[0mDataFrame\u001b[0m\u001b[0;34m(\u001b[0m\u001b[0;34m)\u001b[0m\u001b[0;34m\u001b[0m\u001b[0m\n\u001b[1;32m     13\u001b[0m     \u001b[0;32mfor\u001b[0m \u001b[0mb_id\u001b[0m \u001b[0;32min\u001b[0m \u001b[0mbeer_ids\u001b[0m\u001b[0;34m:\u001b[0m\u001b[0;34m\u001b[0m\u001b[0m\n\u001b[0;32m---> 14\u001b[0;31m         \u001b[0mbeer\u001b[0m \u001b[0;34m=\u001b[0m \u001b[0mBeer\u001b[0m\u001b[0;34m.\u001b[0m\u001b[0mBeer\u001b[0m\u001b[0;34m(\u001b[0m\u001b[0mb_id\u001b[0m\u001b[0;34m)\u001b[0m\u001b[0;34m\u001b[0m\u001b[0m\n\u001b[0m\u001b[1;32m     15\u001b[0m         \u001b[0;32mif\u001b[0m \u001b[0mbeer\u001b[0m\u001b[0;34m.\u001b[0m\u001b[0mname\u001b[0m \u001b[0;32mis\u001b[0m \u001b[0;32mNone\u001b[0m\u001b[0;34m:\u001b[0m    \u001b[0;31m# BeerID resulted in error\u001b[0m\u001b[0;34m\u001b[0m\u001b[0m\n\u001b[1;32m     16\u001b[0m             \u001b[0;32mcontinue\u001b[0m\u001b[0;34m\u001b[0m\u001b[0m\n",
      "\u001b[0;32m~/beer/Beer.py\u001b[0m in \u001b[0;36m__init__\u001b[0;34m(self, beer_id)\u001b[0m\n\u001b[1;32m     15\u001b[0m             \u001b[0mself\u001b[0m\u001b[0;34m.\u001b[0m\u001b[0mrating\u001b[0m \u001b[0;34m=\u001b[0m \u001b[0mself\u001b[0m\u001b[0;34m.\u001b[0m\u001b[0mget_rating\u001b[0m\u001b[0;34m(\u001b[0m\u001b[0;34m)\u001b[0m\u001b[0;34m\u001b[0m\u001b[0m\n\u001b[1;32m     16\u001b[0m             \u001b[0mself\u001b[0m\u001b[0;34m.\u001b[0m\u001b[0mreview\u001b[0m \u001b[0;34m=\u001b[0m \u001b[0mself\u001b[0m\u001b[0;34m.\u001b[0m\u001b[0mget_words\u001b[0m\u001b[0;34m(\u001b[0m\u001b[0;34m)\u001b[0m\u001b[0;34m\u001b[0m\u001b[0m\n\u001b[0;32m---> 17\u001b[0;31m             \u001b[0mself\u001b[0m\u001b[0;34m.\u001b[0m\u001b[0mstyle\u001b[0m \u001b[0;34m=\u001b[0m \u001b[0mself\u001b[0m\u001b[0;34m.\u001b[0m\u001b[0mget_style\u001b[0m\u001b[0;34m(\u001b[0m\u001b[0;34m)\u001b[0m\u001b[0;34m\u001b[0m\u001b[0m\n\u001b[0m\u001b[1;32m     18\u001b[0m         \u001b[0;32melse\u001b[0m\u001b[0;34m:\u001b[0m\u001b[0;34m\u001b[0m\u001b[0m\n\u001b[1;32m     19\u001b[0m             \u001b[0mself\u001b[0m\u001b[0;34m.\u001b[0m\u001b[0mget_rating\u001b[0m \u001b[0;34m=\u001b[0m \u001b[0;32mNone\u001b[0m\u001b[0;34m\u001b[0m\u001b[0m\n",
      "\u001b[0;32m~/beer/Beer.py\u001b[0m in \u001b[0;36mget_style\u001b[0;34m(self)\u001b[0m\n\u001b[1;32m     49\u001b[0m \u001b[0;34m\u001b[0m\u001b[0m\n\u001b[1;32m     50\u001b[0m     \u001b[0;32mdef\u001b[0m \u001b[0mget_style\u001b[0m\u001b[0;34m(\u001b[0m\u001b[0mself\u001b[0m\u001b[0;34m)\u001b[0m\u001b[0;34m:\u001b[0m\u001b[0;34m\u001b[0m\u001b[0m\n\u001b[0;32m---> 51\u001b[0;31m         \u001b[0;32mreturn\u001b[0m \u001b[0mself\u001b[0m\u001b[0;34m.\u001b[0m\u001b[0msoup\u001b[0m\u001b[0;34m.\u001b[0m\u001b[0mfind_all\u001b[0m\u001b[0;34m(\u001b[0m\u001b[0;34m\"a\"\u001b[0m\u001b[0;34m,\u001b[0m \u001b[0mhref\u001b[0m\u001b[0;34m=\u001b[0m\u001b[0mre\u001b[0m\u001b[0;34m.\u001b[0m\u001b[0mcompile\u001b[0m\u001b[0;34m(\u001b[0m\u001b[0;34m\"/beer/style/\"\u001b[0m\u001b[0;34m)\u001b[0m\u001b[0;34m)\u001b[0m\u001b[0;34m[\u001b[0m\u001b[0;36m2\u001b[0m\u001b[0;34m]\u001b[0m\u001b[0;34m.\u001b[0m\u001b[0mget_text\u001b[0m\u001b[0;34m(\u001b[0m\u001b[0;34m)\u001b[0m\u001b[0;34m\u001b[0m\u001b[0m\n\u001b[0m\u001b[1;32m     52\u001b[0m \u001b[0;34m\u001b[0m\u001b[0m\n\u001b[1;32m     53\u001b[0m     \u001b[0;32mdef\u001b[0m \u001b[0mget_attributes\u001b[0m\u001b[0;34m(\u001b[0m\u001b[0mself\u001b[0m\u001b[0;34m)\u001b[0m\u001b[0;34m:\u001b[0m\u001b[0;34m\u001b[0m\u001b[0m\n",
      "\u001b[0;31mIndexError\u001b[0m: list index out of range"
     ]
    }
   ],
   "source": [
    "import Beer\n",
    "from BeerScraper import create_data\n",
    "import numpy as np\n",
    "import pandas as pd\n",
    "from sklearn.feature_extraction.text import TfidfTransformer\n",
    "from bs4 import BeautifulSoup\n",
    "import requests\n",
    "import re\n",
    "import nltk\n",
    "\n",
    "# read existing file.  We will add to this file.\n",
    "beer_df = pd.read_csv('beer.csv')\n",
    "\n",
    "titles = ['name','brewery','style','rating','review']\n",
    "# loop to collect data: gets 100 * 20 random reviews \n",
    "# if more are needed, can repeat, or can change quantity.\n",
    "# note: the code sometimes interrupts.  If it does, remember to\n",
    "# write the file to beer.csv, and start over if more data needed.\n",
    "for i in range(100):\n",
    "    temp_df = create_data(20)\n",
    "    temp_df = temp_df[titles]\n",
    "    beer_df = pd.concat([beer_df,temp_df], ignore_index=True)\n",
    "    print('length of file:',len(beer_df))  # ticker helps me know the loop is still working\n",
    "\n",
    "# store the data\n",
    "beer_df.to_csv('beer.csv', header=True, index=False)\n",
    "\n",
    "pd.set_option('max_colwidth', 120)\n",
    "print(beer_df.head(2))\n",
    "print(beer_df.tail(3))"
   ]
  },
  {
   "cell_type": "code",
   "execution_count": null,
   "metadata": {
    "collapsed": true
   },
   "outputs": [],
   "source": [
    "beer_df.to_csv('beer.csv', header=True, index=False)"
   ]
  },
  {
   "cell_type": "code",
   "execution_count": null,
   "metadata": {},
   "outputs": [],
   "source": [
    "beer_df"
   ]
  },
  {
   "cell_type": "code",
   "execution_count": null,
   "metadata": {},
   "outputs": [],
   "source": [
    "print('  blank reviews:',sum(beer_df.review==' '))\n",
    "print('reviews w words:',sum(beer_df.review!=' '))\n",
    "print('  total reviews:',len(beer_df))"
   ]
  },
  {
   "cell_type": "code",
   "execution_count": 71,
   "metadata": {
    "collapsed": true
   },
   "outputs": [],
   "source": [
    "beer_df.to_csv('beer.csv', header=True, index=False)"
   ]
  },
  {
   "cell_type": "code",
   "execution_count": 72,
   "metadata": {},
   "outputs": [
    {
     "data": {
      "text/html": [
       "<div>\n",
       "<style>\n",
       "    .dataframe thead tr:only-child th {\n",
       "        text-align: right;\n",
       "    }\n",
       "\n",
       "    .dataframe thead th {\n",
       "        text-align: left;\n",
       "    }\n",
       "\n",
       "    .dataframe tbody tr th {\n",
       "        vertical-align: top;\n",
       "    }\n",
       "</style>\n",
       "<table border=\"1\" class=\"dataframe\">\n",
       "  <thead>\n",
       "    <tr style=\"text-align: right;\">\n",
       "      <th></th>\n",
       "      <th>name</th>\n",
       "      <th>brewery</th>\n",
       "      <th>style</th>\n",
       "      <th>rating</th>\n",
       "      <th>review</th>\n",
       "    </tr>\n",
       "  </thead>\n",
       "  <tbody>\n",
       "    <tr>\n",
       "      <th>0</th>\n",
       "      <td>Big Rock Ale</td>\n",
       "      <td>Big Rock Brewery</td>\n",
       "      <td>Scottish Ale</td>\n",
       "      <td>3.90</td>\n",
       "      <td>smell  soft hop aroma with significant malt scents. this one smells very creamy. taste  and creamy it is. the trad...</td>\n",
       "    </tr>\n",
       "    <tr>\n",
       "      <th>1</th>\n",
       "      <td>Flip Ale</td>\n",
       "      <td>Dogfish Head Craft Brewery</td>\n",
       "      <td>Old Ale</td>\n",
       "      <td>4.08</td>\n",
       "      <td>on tap at dfh rehoboth... collab with eatily... cardamom and red wine must. golden orange. .no head. typical dfh ye...</td>\n",
       "    </tr>\n",
       "    <tr>\n",
       "      <th>2</th>\n",
       "      <td>The Almond Marzen Project - Beer Camp #26</td>\n",
       "      <td>Sierra Nevada Brewing Co.</td>\n",
       "      <td>Märzen / Oktoberfest</td>\n",
       "      <td>3.78</td>\n",
       "      <td>nice auburn impressions, tons of clarity, solid inch of off white head.   aroma was a little bit sweet and nutty. ta...</td>\n",
       "    </tr>\n",
       "    <tr>\n",
       "      <th>3</th>\n",
       "      <td>Perpetual Burn IPA</td>\n",
       "      <td>Rock Bottom Restaurant &amp; Brewery</td>\n",
       "      <td>American IPA</td>\n",
       "      <td>3.88</td>\n",
       "      <td>s - piney, a little cat piss in a good way, skunky bud. t - some caramel front, tons of hops at the finish. m - medi...</td>\n",
       "    </tr>\n",
       "    <tr>\n",
       "      <th>4</th>\n",
       "      <td>Hop Monster DRIPA</td>\n",
       "      <td>Iron Hill Brewery &amp; Restaurant</td>\n",
       "      <td>American Double / Imperial IPA</td>\n",
       "      <td>4.14</td>\n",
       "      <td>double red ipa, full-bodied rich caramel malt character with a generous amount of american hops. beware the monste...</td>\n",
       "    </tr>\n",
       "  </tbody>\n",
       "</table>\n",
       "</div>"
      ],
      "text/plain": [
       "                                        name  \\\n",
       "0                               Big Rock Ale   \n",
       "1                                   Flip Ale   \n",
       "2  The Almond Marzen Project - Beer Camp #26   \n",
       "3                         Perpetual Burn IPA   \n",
       "4                          Hop Monster DRIPA   \n",
       "\n",
       "                            brewery                           style  rating  \\\n",
       "0                  Big Rock Brewery                    Scottish Ale    3.90   \n",
       "1        Dogfish Head Craft Brewery                         Old Ale    4.08   \n",
       "2         Sierra Nevada Brewing Co.            Märzen / Oktoberfest    3.78   \n",
       "3  Rock Bottom Restaurant & Brewery                    American IPA    3.88   \n",
       "4    Iron Hill Brewery & Restaurant  American Double / Imperial IPA    4.14   \n",
       "\n",
       "                                                                                                                    review  \n",
       "0  smell  soft hop aroma with significant malt scents. this one smells very creamy. taste  and creamy it is. the trad...  \n",
       "1   on tap at dfh rehoboth... collab with eatily... cardamom and red wine must. golden orange. .no head. typical dfh ye...  \n",
       "2  nice auburn impressions, tons of clarity, solid inch of off white head.   aroma was a little bit sweet and nutty. ta...  \n",
       "3  s - piney, a little cat piss in a good way, skunky bud. t - some caramel front, tons of hops at the finish. m - medi...  \n",
       "4    double red ipa, full-bodied rich caramel malt character with a generous amount of american hops. beware the monste...  "
      ]
     },
     "execution_count": 72,
     "metadata": {},
     "output_type": "execute_result"
    }
   ],
   "source": [
    "new_df=pd.read_csv('beer.csv', header='infer')\n",
    "new_df.head()"
   ]
  },
  {
   "cell_type": "code",
   "execution_count": 73,
   "metadata": {},
   "outputs": [
    {
     "data": {
      "text/plain": [
       "' '"
      ]
     },
     "execution_count": 73,
     "metadata": {},
     "output_type": "execute_result"
    }
   ],
   "source": [
    "# empty review is one blank space.\n",
    "beer_df['review'][7]\n",
    "beer_df['review'][9]\n",
    "beer_df['review'][10]"
   ]
  },
  {
   "cell_type": "code",
   "execution_count": 53,
   "metadata": {},
   "outputs": [
    {
     "name": "stdout",
     "output_type": "stream",
     "text": [
      "nice auburn impressions, tons of clarity, solid inch of off white head.   aroma was a little bit sweet and nutty. taste gave a little more sweetness, stayed away from hops and bitterness, relatively light bodied.  nothing almond came out of it that was obvious.  kind of a fancied up oktoberfest that while good, didn't really change anything from the use of almonds or whatnot.   amber appearance, remarkable clarity. kinda that boring biscuity nothing happening nose to it. you'd have to search to call it nutty. additionally, the taste was largely bland, minor residual sweetness, at no point could i discern anything 'almond' about this beer. these 'hints of marzipan and almonds' are at best hints, i found them to be nonexistant. really just came off like a sweet marzen/oktoberfest with nothing unique in the mix. seems like the almond addition was nice in theory, but it didn't show up on my palate. drank at the sierra nevada 30th anniversary party. had this at the tap room inside the somerset hills hotel back in july. pours a light brown with a slight head and moderate lacing. no strong smells to speak of. what i can pick up is a nutty pilsner smell. the taste is a very subdued nut ale taste. like a light oktoberfest. very light though. i honestly cannot taste any almonds. with how rare this beer is, i was expecting it to be a little different. it drank very smooth, and i could of had more. however, nothing very unique or earth shattering. a - poured an amber color with a white head that leaves lacing behind s - has a nutty nose with caramel malt t - has a very nutty flavor with some caramel malt m - this beer has a medium body with medium carbonation to it d - i liked this one a lot the blend of a nut brown with a marzen worked out great i could drink a number of these in a sitting a must get if you see it a - ruby brown, mostly clear. lacing is sticky. s - in a bar and freezing cold tap so its hard to tell but its roasty and malt forward. t - roasty and chocolate up front, ends with a slight candy caramel. totally un-marzen imo. m/d - full body but not sticky, really easy to drink, odd as an oktoberfest yet idk what i'd call it? american marzen. i just had the pleasure of placing this rarity of a beer on tap at twin light taphouse. produced during beer camp at sierra nevada. locally produced almonds were added during the fermentation of this marzen style lager. poured into a pint glass, the beer has a copper color and held a short head for about 30 seconds. there was a slight bread and sweetness in the nose. the body was light and clean with tastes of toasty malts and almonds. this is a very drinkable beer and hope that sn produces more beers like this one. out in northampton at the sierra grill with jlynn, zapps, and c pie. apparently the owner had something to do with brewing this beer. almonds were actually used in the brewing process? cool... how many grams of protein does this beer have? clear amber in my pint glass. not much head or lacing. me and c pie had the balls to order while zapps had something much lighter and more resembling a hydrated pee color. taste was a refreshing light bodied amber ale with a spicy finish to it. a slight almond kick throughout. nice balanced mouthfeel with just the right amount of hops and malt to back it up. one was enough but it left me feeling satisfied. coop matt sent out the email today letting us know this rarity was going to be available at bitter creek.. i scored a growler for me, inflatablechair, and ditmier. i was making fajitas, so invited the boys over... buckeyeboy was out of town and missed out.. but he'll get his share soon i'm sure. reinheitsgematt and dave k. participated in the beer camp program at sierra nevada.... they helped come up with this recipe... pretty cool for sure. i know almonds are used in this brew some how, but i'm not quite sure how. poured into my smaller stemmed tulip... 2\" off white head leaves great lacing.. crunchy lacing.. the brew is crystal clear amber.. no orange.... no red.. just quality amber.. pretty. nose is traditional maerzen territory.. toasty malts.. some biscuity elements.. really clean.. surprisingly clean.. for this time of year, i am impressed that there are no yeasty aftermath problems. flavor is again pretty nice.. toasty and background spicy hops.. good malt depth.. still on the palate, this is very clean and i love a nice lager. for the style it is medium with a medium carbonation.. rich for the mild abv.. really happy this wasn't overly hopped.. in fact, i'm very impressed this is about perfectly hopped.. subtle and almost reaching... i have no idea where the almonds come into play... i actually eat alot of almonds.. i have a tin at work in my desk just for chomping when i want a snack.. but i get no almonds... cool.. gimmicky.. and i could certainly be missing it.. but overall, i dig this brew and wish sn did more german lagers.... summery and wonderful.. clean and toasty... yummy... i still have at least a nice pint to go!!! sorry eric... not entering this one into rb.. have fun amigo. :-) 4/4/4/4/4.5 \n"
     ]
    }
   ],
   "source": [
    "# some reviews are very long\n",
    "print(new_df['review'][2])"
   ]
  },
  {
   "cell_type": "code",
   "execution_count": 67,
   "metadata": {},
   "outputs": [
    {
     "name": "stdout",
     "output_type": "stream",
     "text": [
      "smell  soft hop aroma with significant malt scents. this one smells very creamy. taste  and creamy it is. the traditional irish flavors come out at the tongue. this is creamy, not like a cream ale, but close. the malt is big, buttery, and very smooth. the hops are very unique. this is not a sharp hop flavor. this is an easy, saturated, well-mixed blend that plays a complimenting second fiddle to the malt base. no sweetness. the finish is nutty and big. this ale changes personalities at the end. mouthfeel  lightly carbonated and exceptionally smooth and creamy. drinkability  very creamy. i know that im repeating myself, but this ale is creamy like peanut butter. its actually kind of nutty to boot. creamy. \n"
     ]
    }
   ],
   "source": [
    "# some reviews are shorter\n",
    "print(new_df['review'][0])"
   ]
  },
  {
   "cell_type": "code",
   "execution_count": null,
   "metadata": {
    "collapsed": true
   },
   "outputs": [],
   "source": []
  }
 ],
 "metadata": {
  "kernelspec": {
   "display_name": "Python 3",
   "language": "python",
   "name": "python3"
  }
 },
 "nbformat": 4,
 "nbformat_minor": 2
}
