{
 "cells": [
  {
   "cell_type": "markdown",
   "metadata": {},
   "source": [
    "## ANALYZE\n",
    "the data\n",
    "\n",
    "This is a work in progress  \n",
    "\n",
    "Vectorize the data in beer.review  \n",
    "Diminish the importance of common words  \n",
    "Compare ML algorithms to use the review data to predict beer.style  \n",
    "Compare ML algorithms to predict beer.rating"
   ]
  },
  {
   "cell_type": "code",
   "execution_count": 61,
   "metadata": {},
   "outputs": [
    {
     "name": "stdout",
     "output_type": "stream",
     "text": [
      "length 80818\n"
     ]
    },
    {
     "data": {
      "text/html": [
       "<div>\n",
       "<style>\n",
       "    .dataframe thead tr:only-child th {\n",
       "        text-align: right;\n",
       "    }\n",
       "\n",
       "    .dataframe thead th {\n",
       "        text-align: left;\n",
       "    }\n",
       "\n",
       "    .dataframe tbody tr th {\n",
       "        vertical-align: top;\n",
       "    }\n",
       "</style>\n",
       "<table border=\"1\" class=\"dataframe\">\n",
       "  <thead>\n",
       "    <tr style=\"text-align: right;\">\n",
       "      <th></th>\n",
       "      <th>name</th>\n",
       "      <th>brewery</th>\n",
       "      <th>style</th>\n",
       "      <th>rating</th>\n",
       "      <th>review</th>\n",
       "    </tr>\n",
       "  </thead>\n",
       "  <tbody>\n",
       "    <tr>\n",
       "      <th>0</th>\n",
       "      <td>Big Rock Ale</td>\n",
       "      <td>Big Rock Brewery</td>\n",
       "      <td>Scottish Ale</td>\n",
       "      <td>3.90</td>\n",
       "      <td>smell  soft hop aroma with significant malt scents. this one smells very creamy. taste  and creamy it is. the traditional irish flavors come out at the tongue. this is creamy, not like a cream ale, but close. the m...</td>\n",
       "    </tr>\n",
       "    <tr>\n",
       "      <th>1</th>\n",
       "      <td>Flip Ale</td>\n",
       "      <td>Dogfish Head Craft Brewery</td>\n",
       "      <td>Old Ale</td>\n",
       "      <td>4.08</td>\n",
       "      <td>on tap at dfh rehoboth... collab with eatily... cardamom and red wine must. golden orange. .no head. typical dfh yeast aroma. ..some spice and maybe a belgian influence. sweet spicy and somewhat fruity.. not much ol...</td>\n",
       "    </tr>\n",
       "    <tr>\n",
       "      <th>2</th>\n",
       "      <td>The Almond Marzen Project - Beer Camp #26</td>\n",
       "      <td>Sierra Nevada Brewing Co.</td>\n",
       "      <td>Märzen / Oktoberfest</td>\n",
       "      <td>3.78</td>\n",
       "      <td>nice auburn impressions, tons of clarity, solid inch of off white head.   aroma was a little bit sweet and nutty. taste gave a little more sweetness, stayed away from hops and bitterness, relatively light bodied.  no...</td>\n",
       "    </tr>\n",
       "  </tbody>\n",
       "</table>\n",
       "</div>"
      ],
      "text/plain": [
       "                                        name                     brewery  \\\n",
       "0                               Big Rock Ale            Big Rock Brewery   \n",
       "1                                   Flip Ale  Dogfish Head Craft Brewery   \n",
       "2  The Almond Marzen Project - Beer Camp #26   Sierra Nevada Brewing Co.   \n",
       "\n",
       "                  style  rating  \\\n",
       "0          Scottish Ale    3.90   \n",
       "1               Old Ale    4.08   \n",
       "2  Märzen / Oktoberfest    3.78   \n",
       "\n",
       "                                                                                                                                                                                                                        review  \n",
       "0  smell  soft hop aroma with significant malt scents. this one smells very creamy. taste  and creamy it is. the traditional irish flavors come out at the tongue. this is creamy, not like a cream ale, but close. the m...  \n",
       "1   on tap at dfh rehoboth... collab with eatily... cardamom and red wine must. golden orange. .no head. typical dfh yeast aroma. ..some spice and maybe a belgian influence. sweet spicy and somewhat fruity.. not much ol...  \n",
       "2  nice auburn impressions, tons of clarity, solid inch of off white head.   aroma was a little bit sweet and nutty. taste gave a little more sweetness, stayed away from hops and bitterness, relatively light bodied.  no...  "
      ]
     },
     "execution_count": 61,
     "metadata": {},
     "output_type": "execute_result"
    }
   ],
   "source": [
    "# IMPORT MODULES AND THE DATA SET\n",
    "import numpy as np\n",
    "import pandas as pd\n",
    "from sklearn.feature_extraction.text import CountVectorizer\n",
    "from sklearn.feature_extraction.text import TfidfTransformer, TfidfVectorizer\n",
    "import re\n",
    "import nltk\n",
    "from nltk.corpus import stopwords\n",
    "from nltk.stem.porter import PorterStemmer\n",
    "from sklearn.model_selection import train_test_split \n",
    "from sklearn.pipeline import Pipeline\n",
    "from sklearn.naive_bayes import MultinomialNB\n",
    "from sklearn.linear_model import LogisticRegression\n",
    "\n",
    "df = pd.read_csv('beer.csv', header=0)\n",
    "df_copy = df  #save a copy of dataframe for reference. \n",
    "print('length',len(df))\n",
    "pd.set_option('max_colwidth', 220)\n",
    "df.head(3)"
   ]
  },
  {
   "cell_type": "code",
   "execution_count": 62,
   "metadata": {},
   "outputs": [
    {
     "data": {
      "text/plain": [
       "(80818, 5)"
      ]
     },
     "execution_count": 62,
     "metadata": {},
     "output_type": "execute_result"
    }
   ],
   "source": [
    "df.shape"
   ]
  },
  {
   "cell_type": "code",
   "execution_count": 63,
   "metadata": {},
   "outputs": [
    {
     "data": {
      "text/plain": [
       "' '"
      ]
     },
     "execution_count": 63,
     "metadata": {},
     "output_type": "execute_result"
    }
   ],
   "source": [
    "df['review'][7]"
   ]
  },
  {
   "cell_type": "code",
   "execution_count": 64,
   "metadata": {},
   "outputs": [
    {
     "name": "stdout",
     "output_type": "stream",
     "text": [
      "df original length 80818\n",
      "length without short reviews"
     ]
    },
    {
     "name": "stderr",
     "output_type": "stream",
     "text": [
      "/Users/brentmarijensen/anaconda3/lib/python3.6/site-packages/ipykernel_launcher.py:8: SettingWithCopyWarning: \n",
      "A value is trying to be set on a copy of a slice from a DataFrame.\n",
      "Try using .loc[row_indexer,col_indexer] = value instead\n",
      "\n",
      "See the caveats in the documentation: http://pandas.pydata.org/pandas-docs/stable/indexing.html#indexing-view-versus-copy\n",
      "  \n"
     ]
    },
    {
     "name": "stdout",
     "output_type": "stream",
     "text": [
      " 49141\n"
     ]
    },
    {
     "data": {
      "text/html": [
       "<div>\n",
       "<style>\n",
       "    .dataframe thead tr:only-child th {\n",
       "        text-align: right;\n",
       "    }\n",
       "\n",
       "    .dataframe thead th {\n",
       "        text-align: left;\n",
       "    }\n",
       "\n",
       "    .dataframe tbody tr th {\n",
       "        vertical-align: top;\n",
       "    }\n",
       "</style>\n",
       "<table border=\"1\" class=\"dataframe\">\n",
       "  <thead>\n",
       "    <tr style=\"text-align: right;\">\n",
       "      <th></th>\n",
       "      <th>name</th>\n",
       "      <th>brewery</th>\n",
       "      <th>style</th>\n",
       "      <th>rating</th>\n",
       "      <th>review</th>\n",
       "      <th>clean_review</th>\n",
       "    </tr>\n",
       "    <tr>\n",
       "      <th>index</th>\n",
       "      <th></th>\n",
       "      <th></th>\n",
       "      <th></th>\n",
       "      <th></th>\n",
       "      <th></th>\n",
       "      <th></th>\n",
       "    </tr>\n",
       "  </thead>\n",
       "  <tbody>\n",
       "    <tr>\n",
       "      <th>0</th>\n",
       "      <td>Big Rock Ale</td>\n",
       "      <td>Big Rock Brewery</td>\n",
       "      <td>Scottish Ale</td>\n",
       "      <td>3.90</td>\n",
       "      <td>smell  soft hop aroma with significant malt scents. this one smells very creamy. taste  and creamy it is. the traditional irish flavors come out at the tongue. this is creamy, not like a cream ale, but close. the m...</td>\n",
       "      <td>smell soft hop aroma significant malt scents one smells creamy taste creamy traditional irish flavors come tongue creamy like cream ale close malt big buttery smooth hops unique sharp hop flavor easy saturated well m...</td>\n",
       "    </tr>\n",
       "    <tr>\n",
       "      <th>1</th>\n",
       "      <td>Flip Ale</td>\n",
       "      <td>Dogfish Head Craft Brewery</td>\n",
       "      <td>Old Ale</td>\n",
       "      <td>4.08</td>\n",
       "      <td>on tap at dfh rehoboth... collab with eatily... cardamom and red wine must. golden orange. .no head. typical dfh yeast aroma. ..some spice and maybe a belgian influence. sweet spicy and somewhat fruity.. not much ol...</td>\n",
       "      <td>tap dfh rehoboth collab eatily cardamom red wine must golden orange head typical dfh yeast aroma spice maybe belgian influence sweet spicy somewhat fruity much old ale characteristic light still tasty cardamom add ni...</td>\n",
       "    </tr>\n",
       "    <tr>\n",
       "      <th>2</th>\n",
       "      <td>The Almond Marzen Project - Beer Camp #26</td>\n",
       "      <td>Sierra Nevada Brewing Co.</td>\n",
       "      <td>Märzen / Oktoberfest</td>\n",
       "      <td>3.78</td>\n",
       "      <td>nice auburn impressions, tons of clarity, solid inch of off white head.   aroma was a little bit sweet and nutty. taste gave a little more sweetness, stayed away from hops and bitterness, relatively light bodied.  no...</td>\n",
       "      <td>nice auburn impressions tons clarity solid inch white head aroma little bit sweet nutty taste gave little sweetness stayed away hops bitterness relatively light bodied nothing almond came obvious kind fancied oktober...</td>\n",
       "    </tr>\n",
       "  </tbody>\n",
       "</table>\n",
       "</div>"
      ],
      "text/plain": [
       "                                            name                     brewery  \\\n",
       "index                                                                          \n",
       "0                                   Big Rock Ale            Big Rock Brewery   \n",
       "1                                       Flip Ale  Dogfish Head Craft Brewery   \n",
       "2      The Almond Marzen Project - Beer Camp #26   Sierra Nevada Brewing Co.   \n",
       "\n",
       "                      style  rating  \\\n",
       "index                                 \n",
       "0              Scottish Ale    3.90   \n",
       "1                   Old Ale    4.08   \n",
       "2      Märzen / Oktoberfest    3.78   \n",
       "\n",
       "                                                                                                                                                                                                                            review  \\\n",
       "index                                                                                                                                                                                                                                \n",
       "0      smell  soft hop aroma with significant malt scents. this one smells very creamy. taste  and creamy it is. the traditional irish flavors come out at the tongue. this is creamy, not like a cream ale, but close. the m...   \n",
       "1       on tap at dfh rehoboth... collab with eatily... cardamom and red wine must. golden orange. .no head. typical dfh yeast aroma. ..some spice and maybe a belgian influence. sweet spicy and somewhat fruity.. not much ol...   \n",
       "2      nice auburn impressions, tons of clarity, solid inch of off white head.   aroma was a little bit sweet and nutty. taste gave a little more sweetness, stayed away from hops and bitterness, relatively light bodied.  no...   \n",
       "\n",
       "                                                                                                                                                                                                                      clean_review  \n",
       "index                                                                                                                                                                                                                               \n",
       "0      smell soft hop aroma significant malt scents one smells creamy taste creamy traditional irish flavors come tongue creamy like cream ale close malt big buttery smooth hops unique sharp hop flavor easy saturated well m...  \n",
       "1      tap dfh rehoboth collab eatily cardamom red wine must golden orange head typical dfh yeast aroma spice maybe belgian influence sweet spicy somewhat fruity much old ale characteristic light still tasty cardamom add ni...  \n",
       "2      nice auburn impressions tons clarity solid inch white head aroma little bit sweet nutty taste gave little sweetness stayed away hops bitterness relatively light bodied nothing almond came obvious kind fancied oktober...  "
      ]
     },
     "execution_count": 64,
     "metadata": {},
     "output_type": "execute_result"
    }
   ],
   "source": [
    "# DATA PREP\n",
    "print('df original length',len(df))\n",
    "# drop all reviews with < 20 characters\n",
    "df = df[df['review'].map(len) > 20]\n",
    "print('length without short reviews',len(df))\n",
    "\n",
    "# reset dataframe index for the shortened dataframe\n",
    "df['index'] = np.arange(len(df))\n",
    "df = df.set_index('index')\n",
    "\n",
    "# Change review to a string of words.  remove non-letters, make lower case, split into words.  \n",
    "# Remove stopwords (common words.)  Join back together into a long string of words. \n",
    "def review_to_words(review):\n",
    "    letters_only = re.sub('[^a-zA-Z]',' ', review)\n",
    "    words = letters_only.lower().split()\n",
    "    stops = set(stopwords.words('english'))  \n",
    "    good_words = [w for w in words if not w in stops]\n",
    "    porter = PorterStemmer()\n",
    "    stemmed = [porter.stem(word) for word in good_words]\n",
    "    return(' '.join(good_words))\n",
    "\n",
    "# clean the reviews\n",
    "df['clean_review'] = df['review'].apply(review_to_words)\n",
    "\n",
    "df.head(3)"
   ]
  },
  {
   "cell_type": "code",
   "execution_count": 65,
   "metadata": {},
   "outputs": [
    {
     "data": {
      "text/plain": [
       "49141"
      ]
     },
     "execution_count": 65,
     "metadata": {},
     "output_type": "execute_result"
    }
   ],
   "source": [
    "df.name.size"
   ]
  },
  {
   "cell_type": "code",
   "execution_count": 66,
   "metadata": {
    "collapsed": true
   },
   "outputs": [],
   "source": [
    "# ADDITIONAL FEATURE ENGINEERING\n",
    "# review length\n",
    "df['review_length'] = df['review'].apply(len)\n",
    "\n",
    "# average word length\n",
    "def avg_word_len(words):\n",
    "    separate_words = words.split()\n",
    "    count_words = (len(separate_words))    # number of words\n",
    "    if count_words> 0:\n",
    "        characters = len(words)  # length of text\n",
    "        avg = (characters - count_words+1)/count_words\n",
    "    else:\n",
    "        avg = 5.65  # this is the mean of 49000 reviews    \n",
    "    return avg   \n",
    "\n",
    "df['avg_word_length'] = df['clean_review'].apply(avg_word_len)"
   ]
  },
  {
   "cell_type": "code",
   "execution_count": 67,
   "metadata": {},
   "outputs": [
    {
     "name": "stdout",
     "output_type": "stream",
     "text": [
      "mean: 1928.5620764738203\n",
      "max:  22085\n",
      "min:  21\n",
      "\n",
      "mean: 5.684227299077345\n",
      "max:  11.0\n",
      "min:  3.0\n"
     ]
    }
   ],
   "source": [
    "print('mean:',df['review_length'].mean())\n",
    "print('max: ',df['review_length'].max())\n",
    "print('min: ',df['review_length'].min())\n",
    "print('')\n",
    "print('mean:',df['avg_word_length'].mean())\n",
    "print('max: ',df['avg_word_length'].max())\n",
    "print('min: ',df['avg_word_length'].min())"
   ]
  },
  {
   "cell_type": "code",
   "execution_count": 68,
   "metadata": {},
   "outputs": [
    {
     "name": "stdout",
     "output_type": "stream",
     "text": [
      "Number of styles used: 104\n",
      "\n",
      "Index(['Altbier', 'American Adjunct Lager', 'American Amber / Red Ale',\n",
      "       'American Amber / Red Lager', 'American Barleywine',\n",
      "       'American Black Ale', 'American Blonde Ale', 'American Brown Ale',\n",
      "       'American Dark Wheat Ale', 'American Double / Imperial IPA',\n",
      "       ...\n",
      "       'Scotch Ale / Wee Heavy', 'Scottish Ale',\n",
      "       'Scottish Gruit / Ancient Herbed Ale', 'Smoked Beer', 'Tripel',\n",
      "       'Vienna Lager', 'Weizenbock', 'Wheatwine', 'Winter Warmer', 'Witbier'],\n",
      "      dtype='object', name='style', length=104)\n"
     ]
    }
   ],
   "source": [
    "styles = df.groupby(['style']).size() \n",
    "print('Number of styles used:', len(styles))\n",
    "print('')\n",
    "print(styles.index)"
   ]
  },
  {
   "cell_type": "code",
   "execution_count": 69,
   "metadata": {},
   "outputs": [
    {
     "name": "stdout",
     "output_type": "stream",
     "text": [
      "style\n",
      "American IPA                           5552\n",
      "American Pale Ale (APA)                2779\n",
      "American Double / Imperial IPA         2677\n",
      "Saison / Farmhouse Ale                 2225\n",
      "American Wild Ale                      1769\n",
      "American Double / Imperial Stout       1591\n",
      "American Porter                        1578\n",
      "American Amber / Red Ale               1424\n",
      "American Stout                         1121\n",
      "Fruit / Vegetable Beer                 1010\n",
      "American Brown Ale                      877\n",
      "American Blonde Ale                     770\n",
      "Hefeweizen                              755\n",
      "Belgian Pale Ale                        752\n",
      "German Pilsener                         735\n",
      "Russian Imperial Stout                  728\n",
      "Witbier                                 703\n",
      "English Bitter                          692\n",
      "English Pale Ale                        633\n",
      "American Pale Wheat Ale                 607\n",
      "Euro Pale Lager                         566\n",
      "American Black Ale                      556\n",
      "Berliner Weissbier                      548\n",
      "Milk / Sweet Stout                      548\n",
      "Märzen / Oktoberfest                    535\n",
      "American Barleywine                     517\n",
      "Tripel                                  516\n",
      "American Pale Lager                     483\n",
      "Extra Special / Strong Bitter (ESB)     479\n",
      "Belgian Strong Pale Ale                 474\n",
      "                                       ... \n",
      "Foreign / Export Stout                  146\n",
      "Weizenbock                              145\n",
      "English Strong Ale                      141\n",
      "California Common / Steam Beer          132\n",
      "Dortmunder / Export Lager               130\n",
      "American Double / Imperial Pilsner      127\n",
      "Flanders Oud Bruin                      122\n",
      "Flanders Red Ale                        121\n",
      "Chile Beer                              105\n",
      "Rauchbier                               100\n",
      "Wheatwine                                96\n",
      "Euro Strong Lager                        91\n",
      "American Malt Liquor                     87\n",
      "English Pale Mild Ale                    77\n",
      "Scottish Gruit / Ancient Herbed Ale      70\n",
      "Low Alcohol Beer                         69\n",
      "Braggot                                  61\n",
      "Kristalweizen                            59\n",
      "Gueuze                                   54\n",
      "American Dark Wheat Ale                  53\n",
      "Roggenbier                               51\n",
      "Lambic - Unblended                       42\n",
      "Kvass                                    40\n",
      "Eisbock                                  37\n",
      "Happoshu                                 32\n",
      "Japanese Rice Lager                      31\n",
      "Black & Tan                              29\n",
      "Bière de Champagne / Bière Brut          14\n",
      "Sahti                                    12\n",
      "Faro                                      6\n",
      "Length: 104, dtype: int64\n"
     ]
    }
   ],
   "source": [
    "labels = df.groupby(['style']).size()\n",
    "print(labels.sort_values(ascending=False))"
   ]
  },
  {
   "cell_type": "code",
   "execution_count": 70,
   "metadata": {},
   "outputs": [
    {
     "name": "stdout",
     "output_type": "stream",
     "text": [
      "length without uncommon styles 46861\n"
     ]
    }
   ],
   "source": [
    "# COMBINE SIMILAR STYLES OF BEER.  \n",
    "\n",
    "df['style'].replace('Saison / Farmhouse Ale', 'Farm Ale', inplace=True)\n",
    "df['style'].replace('Bière de Garde', 'Farm Ale', inplace=True)\n",
    "df['style'].replace('American IPA', 'IPA', inplace=True)\n",
    "df['style'].replace('English India Pale Ale (IPA)', 'IPA', inplace=True)\n",
    "df['style'].replace('Belgian IPA', 'IPA', inplace=True)\n",
    "df['style'].replace('Scotch Ale / Wee Heavy', 'Scottish Ale', inplace=True)\n",
    "df['style'].replace('American Pale Ale (APA)', 'Pale Ale', inplace=True)\n",
    "df['style'].replace('English Pale Ale', 'Pale Ale', inplace=True)\n",
    "df['style'].replace('Belgian Pale Ale', 'Pale Ale', inplace=True)\n",
    "df['style'].replace('American Brown Ale', 'Brown Ale', inplace=True)\n",
    "df['style'].replace('English Brown Ale', 'Brown Ale', inplace=True)\n",
    "df['style'].replace('English Dark Mild Ale', 'Brown Ale', inplace=True)\n",
    "df['style'].replace('American Stout', 'Stout', inplace=True)\n",
    "df['style'].replace('English Stout', 'Stout', inplace=True)\n",
    "df['style'].replace('Milk / Sweet Stout', 'Stout', inplace=True)\n",
    "df['style'].replace('Oatmeal Stout', 'Stout', inplace=True)\n",
    "df['style'].replace('Oatmeal Stout', 'Stout', inplace=True)\n",
    "df['style'].replace('American Double / Imperial Stout', 'Imperial Stout', inplace=True)\n",
    "df['style'].replace('Russian Imperial', 'Imperial Stout', inplace=True)\n",
    "df['style'].replace('American Porter', 'Porter', inplace=True)\n",
    "df['style'].replace('Baltic Porter', 'Porter', inplace=True)\n",
    "df['style'].replace('English Porter', 'Porter', inplace=True)\n",
    "df['style'].replace('American Amber / Red Lager', 'Lager', inplace=True)\n",
    "df['style'].replace('Vienna Lager', 'Lager', inplace=True)\n",
    "df['style'].replace('German Pilsener', 'Lager', inplace=True)\n",
    "df['style'].replace('Munich Helles Lager', 'Lager', inplace=True)\n",
    "df['style'].replace('American Adjunct Lager', 'American Lager', inplace=True)\n",
    "df['style'].replace('American Pale Lager', 'American Lager', inplace=True)\n",
    "df['style'].replace('American Barleywine', 'Barleywine', inplace=True)\n",
    "df['style'].replace('English Barleywine', 'Barleywine', inplace=True)\n",
    "df['style'].replace('English Bitter', 'Bitter', inplace=True)\n",
    "df['style'].replace('Extra Special / Strong Bitter (ESB)', 'Bitter', inplace=True)\n",
    "df['style'].replace('American Pale Wheat Ale', 'Wheat', inplace=True)\n",
    "df['style'].replace('Witbier', 'Wheat', inplace=True)\n",
    "#df['style'].replace('Witbier', 'Wheat', inplace=True)\n",
    "\n",
    "\n",
    "# remove uncommon styles (in EDA, I found 13 styles with fewer than 60 reviews)\n",
    "#uncommon = [ 'American Dark Wheat Ale','Bière de Champagne / Bière Brut', 'Black & Tan', \n",
    "#            'Eisbock', 'Faro', 'Gueuze', 'Happoshu', 'Japanese Rice Lager', 'Kristalweizen',\n",
    "#            'Kvass', 'Lambic - Unblended','Roggenbier', 'Sahti' ]   \n",
    "labels = df.groupby(['style']).size() \n",
    "uncommon = labels[labels<160]\n",
    "df = df.loc[~df['style'].isin(uncommon.index)]\n",
    "print('length without uncommon styles',len(df))"
   ]
  },
  {
   "cell_type": "code",
   "execution_count": 71,
   "metadata": {},
   "outputs": [
    {
     "name": "stdout",
     "output_type": "stream",
     "text": [
      "30 styles excluded:\n",
      "Index(['American Dark Wheat Ale', 'American Double / Imperial Pilsner',\n",
      "       'American Malt Liquor', 'Bière de Champagne / Bière Brut',\n",
      "       'Black & Tan', 'Braggot', 'California Common / Steam Beer',\n",
      "       'Chile Beer', 'Dortmunder / Export Lager', 'Eisbock',\n",
      "       'English Pale Mild Ale', 'English Strong Ale', 'Euro Strong Lager',\n",
      "       'Faro', 'Flanders Oud Bruin', 'Flanders Red Ale',\n",
      "       'Foreign / Export Stout', 'Gueuze', 'Happoshu', 'Japanese Rice Lager',\n",
      "       'Kristalweizen', 'Kvass', 'Lambic - Unblended', 'Low Alcohol Beer',\n",
      "       'Rauchbier', 'Roggenbier', 'Sahti',\n",
      "       'Scottish Gruit / Ancient Herbed Ale', 'Weizenbock', 'Wheatwine'],\n",
      "      dtype='object', name='style')\n"
     ]
    }
   ],
   "source": [
    "print(len(uncommon), 'styles excluded:')\n",
    "print(uncommon.index)"
   ]
  },
  {
   "cell_type": "code",
   "execution_count": 72,
   "metadata": {},
   "outputs": [
    {
     "data": {
      "text/plain": [
       "6268"
      ]
     },
     "execution_count": 72,
     "metadata": {},
     "output_type": "execute_result"
    }
   ],
   "source": [
    "labels.IPA"
   ]
  },
  {
   "cell_type": "code",
   "execution_count": 73,
   "metadata": {},
   "outputs": [
    {
     "name": "stdout",
     "output_type": "stream",
     "text": [
      "style\n",
      "IPA                               6268\n",
      "Pale Ale                          4164\n",
      "American Double / Imperial IPA    2677\n",
      "Farm Ale                          2387\n",
      "Stout                             2305\n",
      "Porter                            2144\n",
      "American Wild Ale                 1769\n",
      "Imperial Stout                    1591\n",
      "Brown Ale                         1494\n",
      "American Amber / Red Ale          1424\n",
      "Lager                             1408\n",
      "Wheat                             1310\n",
      "Bitter                            1171\n",
      "Fruit / Vegetable Beer            1010\n",
      "American Lager                     822\n",
      "Barleywine                         799\n",
      "American Blonde Ale                770\n",
      "Hefeweizen                         755\n",
      "Russian Imperial Stout             728\n",
      "Scottish Ale                       671\n",
      "Euro Pale Lager                    566\n",
      "American Black Ale                 556\n",
      "Berliner Weissbier                 548\n",
      "Märzen / Oktoberfest               535\n",
      "Tripel                             516\n",
      "Belgian Strong Pale Ale            474\n",
      "American Strong Ale                438\n",
      "Czech Pilsener                     429\n",
      "Herbed / Spiced Beer               415\n",
      "Belgian Strong Dark Ale            407\n",
      "Kölsch                             391\n",
      "Rye Beer                           391\n",
      "Gose                               337\n",
      "Dubbel                             331\n",
      "Winter Warmer                      321\n",
      "Pumpkin Ale                        307\n",
      "Doppelbock                         294\n",
      "Cream Ale                          286\n",
      "Maibock / Helles Bock              280\n",
      "Schwarzbier                        277\n",
      "Irish Dry Stout                    270\n",
      "Quadrupel (Quad)                   265\n",
      "Irish Red Ale                      249\n",
      "Munich Dunkel Lager                238\n",
      "Bock                               233\n",
      "Altbier                            229\n",
      "Dunkelweizen                       219\n",
      "Smoked Beer                        219\n",
      "Kellerbier / Zwickelbier           218\n",
      "Light Lager                        210\n",
      "Belgian Dark Ale                   205\n",
      "Old Ale                            195\n",
      "Lambic - Fruit                     176\n",
      "Euro Dark Lager                    169\n",
      "dtype: int64\n"
     ]
    }
   ],
   "source": [
    "labels = df.groupby(['style']).size()\n",
    "print(labels.sort_values(ascending=False))"
   ]
  },
  {
   "cell_type": "code",
   "execution_count": 83,
   "metadata": {},
   "outputs": [
    {
     "name": "stdout",
     "output_type": "stream",
     "text": [
      "percent of beers in IPA style: 0.133757282175\n"
     ]
    }
   ],
   "source": [
    "print('percent of beers in IPA style:', labels.IPA/len(df))"
   ]
  },
  {
   "cell_type": "code",
   "execution_count": 82,
   "metadata": {
    "scrolled": true
   },
   "outputs": [
    {
     "name": "stdout",
     "output_type": "stream",
     "text": [
      "Number of styles used: 54\n",
      "\n",
      "Index(['Altbier', 'American Amber / Red Ale', 'American Black Ale',\n",
      "       'American Blonde Ale', 'American Double / Imperial IPA',\n",
      "       'American Lager', 'American Strong Ale', 'American Wild Ale',\n",
      "       'Barleywine', 'Belgian Dark Ale', 'Belgian Strong Dark Ale',\n",
      "       'Belgian Strong Pale Ale', 'Berliner Weissbier', 'Bitter', 'Bock',\n",
      "       'Brown Ale', 'Cream Ale', 'Czech Pilsener', 'Doppelbock', 'Dubbel',\n",
      "       'Dunkelweizen', 'Euro Dark Lager', 'Euro Pale Lager', 'Farm Ale',\n",
      "       'Fruit / Vegetable Beer', 'Gose', 'Hefeweizen', 'Herbed / Spiced Beer',\n",
      "       'IPA', 'Imperial Stout', 'Irish Dry Stout', 'Irish Red Ale',\n",
      "       'Kellerbier / Zwickelbier', 'Kölsch', 'Lager', 'Lambic - Fruit',\n",
      "       'Light Lager', 'Maibock / Helles Bock', 'Munich Dunkel Lager',\n",
      "       'Märzen / Oktoberfest', 'Old Ale', 'Pale Ale', 'Porter', 'Pumpkin Ale',\n",
      "       'Quadrupel (Quad)', 'Russian Imperial Stout', 'Rye Beer', 'Schwarzbier',\n",
      "       'Scottish Ale', 'Smoked Beer', 'Stout', 'Tripel', 'Wheat',\n",
      "       'Winter Warmer'],\n",
      "      dtype='object', name='style')\n"
     ]
    }
   ],
   "source": [
    "styles = df.groupby(['style']).size() \n",
    "print('Number of styles used:', len(styles))\n",
    "print('')\n",
    "print(styles.index)"
   ]
  },
  {
   "cell_type": "code",
   "execution_count": 79,
   "metadata": {
    "collapsed": true
   },
   "outputs": [],
   "source": [
    "#store the cleaned data:\n",
    "df.to_csv('clean_beer.csv', header=True, index=False)"
   ]
  },
  {
   "cell_type": "code",
   "execution_count": 80,
   "metadata": {
    "collapsed": true
   },
   "outputs": [],
   "source": [
    "#read the cleaned data: \n",
    "df = pd.read_csv('clean_beer.csv')"
   ]
  },
  {
   "cell_type": "code",
   "execution_count": 88,
   "metadata": {
    "collapsed": true
   },
   "outputs": [],
   "source": [
    "#pickle the clean data:\n",
    "import pickle\n",
    "filename = 'dogs'\n",
    "outfile = open(filename,'wb')\n",
    "pickle.dump(df,outfile)\n",
    "outfile.close()"
   ]
  },
  {
   "cell_type": "code",
   "execution_count": 90,
   "metadata": {
    "collapsed": true
   },
   "outputs": [],
   "source": [
    "# retrieve the pickled data:\n",
    "infile = open(filename,'rb')\n",
    "new_dict = pickle.load(infile)\n",
    "infile.close()"
   ]
  },
  {
   "cell_type": "code",
   "execution_count": 81,
   "metadata": {},
   "outputs": [
    {
     "name": "stdout",
     "output_type": "stream",
     "text": [
      "ready\n"
     ]
    }
   ],
   "source": [
    "print('ready')"
   ]
  },
  {
   "cell_type": "markdown",
   "metadata": {
    "collapsed": true
   },
   "source": [
    "## MACHINE LEARNING \n",
    "### PREDICT STYLE FROM REVIEW\n",
    "The most naive model would predict the most reviewed style: IPA.  It would be correct 13% of the time.  "
   ]
  },
  {
   "cell_type": "code",
   "execution_count": 92,
   "metadata": {},
   "outputs": [
    {
     "ename": "ValueError",
     "evalue": "np.nan is an invalid document, expected byte or unicode string.",
     "output_type": "error",
     "traceback": [
      "\u001b[0;31m---------------------------------------------------------------------------\u001b[0m",
      "\u001b[0;31mValueError\u001b[0m                                Traceback (most recent call last)",
      "\u001b[0;32m<ipython-input-92-ef476adaab94>\u001b[0m in \u001b[0;36m<module>\u001b[0;34m()\u001b[0m\n\u001b[1;32m      8\u001b[0m \u001b[0mvectorizer\u001b[0m \u001b[0;34m=\u001b[0m \u001b[0mCountVectorizer\u001b[0m\u001b[0;34m(\u001b[0m\u001b[0manalyzer\u001b[0m\u001b[0;34m=\u001b[0m\u001b[0;34m'word'\u001b[0m\u001b[0;34m,\u001b[0m \u001b[0mmin_df\u001b[0m\u001b[0;34m=\u001b[0m\u001b[0;36m3\u001b[0m\u001b[0;34m,\u001b[0m \u001b[0mngram_range\u001b[0m \u001b[0;34m=\u001b[0m \u001b[0;34m(\u001b[0m\u001b[0;36m1\u001b[0m\u001b[0;34m,\u001b[0m\u001b[0;36m2\u001b[0m\u001b[0;34m)\u001b[0m\u001b[0;34m)\u001b[0m\u001b[0;34m\u001b[0m\u001b[0m\n\u001b[1;32m      9\u001b[0m \u001b[0;31m#vectorizer = TfidfVectorizer(analyzer='word', min_df=2, ngram_range = (1,2))\u001b[0m\u001b[0;34m\u001b[0m\u001b[0;34m\u001b[0m\u001b[0m\n\u001b[0;32m---> 10\u001b[0;31m \u001b[0mX_counts\u001b[0m \u001b[0;34m=\u001b[0m \u001b[0mvectorizer\u001b[0m\u001b[0;34m.\u001b[0m\u001b[0mfit_transform\u001b[0m\u001b[0;34m(\u001b[0m\u001b[0mX\u001b[0m\u001b[0;34m)\u001b[0m\u001b[0;34m\u001b[0m\u001b[0m\n\u001b[0m\u001b[1;32m     11\u001b[0m \u001b[0mtfidf\u001b[0m \u001b[0;34m=\u001b[0m \u001b[0mTfidfTransformer\u001b[0m\u001b[0;34m(\u001b[0m\u001b[0;34m)\u001b[0m\u001b[0;34m\u001b[0m\u001b[0m\n\u001b[1;32m     12\u001b[0m \u001b[0mX_train_tfidf\u001b[0m \u001b[0;34m=\u001b[0m \u001b[0mtfidf\u001b[0m\u001b[0;34m.\u001b[0m\u001b[0mfit_transform\u001b[0m\u001b[0;34m(\u001b[0m\u001b[0mX_counts\u001b[0m\u001b[0;34m)\u001b[0m\u001b[0;34m\u001b[0m\u001b[0m\n",
      "\u001b[0;32m~/anaconda3/lib/python3.6/site-packages/sklearn/feature_extraction/text.py\u001b[0m in \u001b[0;36mfit_transform\u001b[0;34m(self, raw_documents, y)\u001b[0m\n\u001b[1;32m    867\u001b[0m \u001b[0;34m\u001b[0m\u001b[0m\n\u001b[1;32m    868\u001b[0m         vocabulary, X = self._count_vocab(raw_documents,\n\u001b[0;32m--> 869\u001b[0;31m                                           self.fixed_vocabulary_)\n\u001b[0m\u001b[1;32m    870\u001b[0m \u001b[0;34m\u001b[0m\u001b[0m\n\u001b[1;32m    871\u001b[0m         \u001b[0;32mif\u001b[0m \u001b[0mself\u001b[0m\u001b[0;34m.\u001b[0m\u001b[0mbinary\u001b[0m\u001b[0;34m:\u001b[0m\u001b[0;34m\u001b[0m\u001b[0m\n",
      "\u001b[0;32m~/anaconda3/lib/python3.6/site-packages/sklearn/feature_extraction/text.py\u001b[0m in \u001b[0;36m_count_vocab\u001b[0;34m(self, raw_documents, fixed_vocab)\u001b[0m\n\u001b[1;32m    790\u001b[0m         \u001b[0;32mfor\u001b[0m \u001b[0mdoc\u001b[0m \u001b[0;32min\u001b[0m \u001b[0mraw_documents\u001b[0m\u001b[0;34m:\u001b[0m\u001b[0;34m\u001b[0m\u001b[0m\n\u001b[1;32m    791\u001b[0m             \u001b[0mfeature_counter\u001b[0m \u001b[0;34m=\u001b[0m \u001b[0;34m{\u001b[0m\u001b[0;34m}\u001b[0m\u001b[0;34m\u001b[0m\u001b[0m\n\u001b[0;32m--> 792\u001b[0;31m             \u001b[0;32mfor\u001b[0m \u001b[0mfeature\u001b[0m \u001b[0;32min\u001b[0m \u001b[0manalyze\u001b[0m\u001b[0;34m(\u001b[0m\u001b[0mdoc\u001b[0m\u001b[0;34m)\u001b[0m\u001b[0;34m:\u001b[0m\u001b[0;34m\u001b[0m\u001b[0m\n\u001b[0m\u001b[1;32m    793\u001b[0m                 \u001b[0;32mtry\u001b[0m\u001b[0;34m:\u001b[0m\u001b[0;34m\u001b[0m\u001b[0m\n\u001b[1;32m    794\u001b[0m                     \u001b[0mfeature_idx\u001b[0m \u001b[0;34m=\u001b[0m \u001b[0mvocabulary\u001b[0m\u001b[0;34m[\u001b[0m\u001b[0mfeature\u001b[0m\u001b[0;34m]\u001b[0m\u001b[0;34m\u001b[0m\u001b[0m\n",
      "\u001b[0;32m~/anaconda3/lib/python3.6/site-packages/sklearn/feature_extraction/text.py\u001b[0m in \u001b[0;36m<lambda>\u001b[0;34m(doc)\u001b[0m\n\u001b[1;32m    264\u001b[0m \u001b[0;34m\u001b[0m\u001b[0m\n\u001b[1;32m    265\u001b[0m             return lambda doc: self._word_ngrams(\n\u001b[0;32m--> 266\u001b[0;31m                 tokenize(preprocess(self.decode(doc))), stop_words)\n\u001b[0m\u001b[1;32m    267\u001b[0m \u001b[0;34m\u001b[0m\u001b[0m\n\u001b[1;32m    268\u001b[0m         \u001b[0;32melse\u001b[0m\u001b[0;34m:\u001b[0m\u001b[0;34m\u001b[0m\u001b[0m\n",
      "\u001b[0;32m~/anaconda3/lib/python3.6/site-packages/sklearn/feature_extraction/text.py\u001b[0m in \u001b[0;36mdecode\u001b[0;34m(self, doc)\u001b[0m\n\u001b[1;32m    117\u001b[0m \u001b[0;34m\u001b[0m\u001b[0m\n\u001b[1;32m    118\u001b[0m         \u001b[0;32mif\u001b[0m \u001b[0mdoc\u001b[0m \u001b[0;32mis\u001b[0m \u001b[0mnp\u001b[0m\u001b[0;34m.\u001b[0m\u001b[0mnan\u001b[0m\u001b[0;34m:\u001b[0m\u001b[0;34m\u001b[0m\u001b[0m\n\u001b[0;32m--> 119\u001b[0;31m             raise ValueError(\"np.nan is an invalid document, expected byte or \"\n\u001b[0m\u001b[1;32m    120\u001b[0m                              \"unicode string.\")\n\u001b[1;32m    121\u001b[0m \u001b[0;34m\u001b[0m\u001b[0m\n",
      "\u001b[0;31mValueError\u001b[0m: np.nan is an invalid document, expected byte or unicode string."
     ]
    }
   ],
   "source": [
    "# VECTORIZE THE REVIEWS  1.4 minutes\n",
    "from sklearn.preprocessing import Normalizer\n",
    "\n",
    "X = df['clean_review'].values\n",
    "y = df['style'].values\n",
    "\n",
    "# vectorize the train data, fit and transform into feature vectors\n",
    "vectorizer = CountVectorizer(analyzer='word', min_df=3, ngram_range = (1,2))\n",
    "#vectorizer = TfidfVectorizer(analyzer='word', min_df=2, ngram_range = (1,2))\n",
    "X_counts = vectorizer.fit_transform(X)\n",
    "tfidf = TfidfTransformer()\n",
    "X_train_tfidf = tfidf.fit_transform(X_counts)\n",
    "scaler = Normalizer()\n",
    "X_scaled = scaler.fit_transform(X_train_tfidf)\n",
    "\n",
    "# split into train and test data\n",
    "X_train,X_test,y_train,y_test = train_test_split(X_scaled,y, test_size=0.3, random_state=22)\n",
    "# make a small set for param tuning\n",
    "X_train2 = X_train[:3600]\n",
    "y_train2 = y_train[:3600]\n",
    "X_test2 = X_test[1000:2000]\n",
    "y_test2 = y_test[1000:2000]\n"
   ]
  },
  {
   "cell_type": "code",
   "execution_count": null,
   "metadata": {},
   "outputs": [],
   "source": [
    "X_scaled.shape"
   ]
  },
  {
   "cell_type": "code",
   "execution_count": 18,
   "metadata": {
    "collapsed": true
   },
   "outputs": [],
   "source": [
    "# store the data\n",
    "np.save('X_scaled.npz', X_scaled)\n"
   ]
  },
  {
   "cell_type": "code",
   "execution_count": null,
   "metadata": {},
   "outputs": [],
   "source": [
    "data = np.load('X_scaled.npz')\n",
    "data.shape"
   ]
  },
  {
   "cell_type": "code",
   "execution_count": 20,
   "metadata": {},
   "outputs": [
    {
     "data": {
      "image/png": "[encoded data removed]",
      "text/plain": [
       "<matplotlib.figure.Figure at 0x1a1c385160>"
      ]
     },
     "metadata": {},
     "output_type": "display_data"
    }
   ],
   "source": [
    "import seaborn as sns\n",
    "import matplotlib.pyplot as plt\n",
    "\n",
    "txt1 = X[200].split()\n",
    "\n",
    "tf = TfidfVectorizer(smooth_idf=False, sublinear_tf=False, norm=None, analyzer='word')\n",
    "txt_fitted = tf.fit(txt1)\n",
    "txt_transformed = txt_fitted.transform(txt1)\n",
    "idf = tf.idf_\n",
    "\n",
    "rr = dict(zip(txt_fitted.get_feature_names(), idf))\n",
    "token_weight = pd.DataFrame.from_dict(rr, orient='index').reset_index()\n",
    "token_weight.columns=('token','weight')\n",
    "token_weight = token_weight.sort_values(by='weight', ascending=False)\n",
    "token_weight \n",
    "\n",
    "sns.barplot(x='token', y='weight', data=token_weight)            \n",
    "plt.title(\"Inverse Document Frequency(idf) per token\")\n",
    "fig=plt.gcf()\n",
    "fig.set_size_inches(15,5)\n",
    "_= plt.xticks(rotation='vertical',size=11)\n",
    "plt.show()"
   ]
  },
  {
   "cell_type": "code",
   "execution_count": 42,
   "metadata": {},
   "outputs": [
    {
     "name": "stdout",
     "output_type": "stream",
     "text": [
      "Features with lowest idf:\n",
      "['ipa' 'learned' 'beer']\n",
      "\n",
      "Features with highest idf:\n",
      "['expecting' 'getting' 'years']\n"
     ]
    }
   ],
   "source": [
    "feature_names = np.array(tf.get_feature_names())\n",
    "sorted_by_idf = np.argsort(tf.idf_)\n",
    "print(\"Features with lowest idf:\\n{}\".format(\n",
    "       feature_names[sorted_by_idf[:3]]))\n",
    "print(\"\\nFeatures with highest idf:\\n{}\".format(\n",
    "       feature_names[sorted_by_idf[-3:]]))"
   ]
  },
  {
   "cell_type": "code",
   "execution_count": null,
   "metadata": {
    "collapsed": true
   },
   "outputs": [],
   "source": []
  },
  {
   "cell_type": "code",
   "execution_count": 86,
   "metadata": {},
   "outputs": [
    {
     "name": "stdout",
     "output_type": "stream",
     "text": [
      "accuracy score:  0.544206558077\n",
      "                                precision    recall  f1-score   support\n",
      "\n",
      "                       Altbier       0.58      0.23      0.33        61\n",
      "      American Amber / Red Ale       0.47      0.34      0.39       420\n",
      "            American Black Ale       0.75      0.60      0.66       157\n",
      "           American Blonde Ale       0.58      0.20      0.30       230\n",
      "American Double / Imperial IPA       0.65      0.48      0.55       793\n",
      "                American Lager       0.44      0.47      0.46       239\n",
      "           American Strong Ale       0.49      0.33      0.39       119\n",
      "             American Wild Ale       0.65      0.71      0.68       558\n",
      "                    Barleywine       0.52      0.69      0.59       236\n",
      "              Belgian Dark Ale       0.39      0.16      0.23        68\n",
      "       Belgian Strong Dark Ale       0.47      0.45      0.46       128\n",
      "       Belgian Strong Pale Ale       0.54      0.30      0.38       125\n",
      "            Berliner Weissbier       0.73      0.45      0.56       161\n",
      "                        Bitter       0.63      0.48      0.55       354\n",
      "                          Bock       0.65      0.26      0.37        78\n",
      "                     Brown Ale       0.59      0.48      0.53       445\n",
      "                     Cream Ale       0.76      0.34      0.47        77\n",
      "                Czech Pilsener       0.81      0.31      0.45       137\n",
      "                    Doppelbock       0.63      0.38      0.47        85\n",
      "                        Dubbel       0.76      0.39      0.51        90\n",
      "                  Dunkelweizen       0.88      0.46      0.60        63\n",
      "               Euro Dark Lager       0.60      0.27      0.37        55\n",
      "               Euro Pale Lager       0.52      0.43      0.47       158\n",
      "                      Farm Ale       0.58      0.66      0.62       674\n",
      "        Fruit / Vegetable Beer       0.65      0.50      0.56       335\n",
      "                          Gose       0.87      0.53      0.66       110\n",
      "                    Hefeweizen       0.75      0.69      0.72       247\n",
      "          Herbed / Spiced Beer       0.53      0.34      0.41       135\n",
      "                           IPA       0.50      0.80      0.62      1907\n",
      "                Imperial Stout       0.47      0.66      0.55       470\n",
      "               Irish Dry Stout       0.63      0.26      0.37        91\n",
      "                 Irish Red Ale       0.81      0.24      0.38        86\n",
      "      Kellerbier / Zwickelbier       0.71      0.32      0.44        62\n",
      "                        Kölsch       0.76      0.24      0.36       117\n",
      "                         Lager       0.46      0.56      0.51       439\n",
      "                Lambic - Fruit       0.80      0.45      0.58        44\n",
      "                   Light Lager       0.54      0.33      0.41        64\n",
      "         Maibock / Helles Bock       0.79      0.30      0.44        89\n",
      "           Munich Dunkel Lager       0.49      0.28      0.35        61\n",
      "          Märzen / Oktoberfest       0.77      0.49      0.60       152\n",
      "                       Old Ale       0.47      0.13      0.21        53\n",
      "                      Pale Ale       0.40      0.51      0.45      1269\n",
      "                        Porter       0.51      0.68      0.58       629\n",
      "                   Pumpkin Ale       0.73      0.86      0.79        96\n",
      "              Quadrupel (Quad)       0.71      0.45      0.55        89\n",
      "        Russian Imperial Stout       0.50      0.28      0.36       228\n",
      "                      Rye Beer       0.75      0.31      0.44       127\n",
      "                   Schwarzbier       0.77      0.25      0.38        95\n",
      "                  Scottish Ale       0.60      0.52      0.56       188\n",
      "                   Smoked Beer       0.57      0.42      0.49        59\n",
      "                         Stout       0.57      0.64      0.60       673\n",
      "                        Tripel       0.67      0.52      0.58       142\n",
      "                         Wheat       0.64      0.53      0.58       385\n",
      "                 Winter Warmer       0.51      0.45      0.48       106\n",
      "\n",
      "                   avg / total       0.57      0.54      0.53     14059\n",
      "\n"
     ]
    }
   ],
   "source": [
    "# NAIVE BAYES PREDICTOR   fast\n",
    "from sklearn.metrics import confusion_matrix, classification_report, f1_score, roc_curve\n",
    "\n",
    "clf = MultinomialNB(alpha = 0.001)\n",
    "# first pass, .1195,  after word cleaning .2076,  after combining styles .2639\n",
    "# ngrams (1,1): .2639  ngrams (1,2): .2117  ngrams (1,3): .20677\n",
    "# after adding stemmer with ngrams(1,2): .1617\n",
    "# changed alpha to 0.001, got 0.53!\n",
    "clf.fit(X_train, y_train)\n",
    "predicted = clf.predict(X_test)\n",
    "print(\"accuracy score: \", np.mean(predicted == y_test))\n",
    "\n",
    "print(classification_report(y_test, predicted))"
   ]
  },
  {
   "cell_type": "code",
   "execution_count": null,
   "metadata": {
    "collapsed": true
   },
   "outputs": [],
   "source": []
  },
  {
   "cell_type": "code",
   "execution_count": null,
   "metadata": {},
   "outputs": [],
   "source": [
    "from sklearn.metrics import precision_recall_curve, roc_curve\n",
    "precision, recall, thresholds = precision_recall_curve(y_test, predicted)\n",
    "#fpr, tpr, thresholds = roc_curve(y_test, predicted    )"
   ]
  },
  {
   "cell_type": "code",
   "execution_count": 23,
   "metadata": {},
   "outputs": [
    {
     "name": "stdout",
     "output_type": "stream",
     "text": [
      "best cross-val score: 0.49\n",
      "best params: {'alpha': 0.01}\n"
     ]
    }
   ],
   "source": [
    "# GRID search NAIVE BAYES\n",
    "from sklearn.model_selection import GridSearchCV\n",
    "\n",
    "param_grid = {'alpha': [0.0001,0.001, 0.01]}\n",
    "grid = GridSearchCV(MultinomialNB(), param_grid, cv=5)\n",
    "grid.fit(X_train, y_train)\n",
    "print('best cross-val score: {:.2f}'.format(grid.best_score_))\n",
    "print('best params:', grid.best_params_)"
   ]
  },
  {
   "cell_type": "code",
   "execution_count": null,
   "metadata": {
    "collapsed": true
   },
   "outputs": [],
   "source": []
  },
  {
   "cell_type": "code",
   "execution_count": 87,
   "metadata": {},
   "outputs": [
    {
     "name": "stderr",
     "output_type": "stream",
     "text": [
      "/Users/brentmarijensen/anaconda3/lib/python3.6/site-packages/ipykernel_launcher.py:6: DeprecationWarning: elementwise == comparison failed; this will raise an error in the future.\n",
      "  \n"
     ]
    },
    {
     "name": "stdout",
     "output_type": "stream",
     "text": [
      "0.0\n"
     ]
    },
    {
     "ename": "ValueError",
     "evalue": "Found input variables with inconsistent numbers of samples: [14059, 1000]",
     "output_type": "error",
     "traceback": [
      "\u001b[0;31m---------------------------------------------------------------------------\u001b[0m",
      "\u001b[0;31mValueError\u001b[0m                                Traceback (most recent call last)",
      "\u001b[0;32m<timed exec>\u001b[0m in \u001b[0;36m<module>\u001b[0;34m()\u001b[0m\n",
      "\u001b[0;32m~/anaconda3/lib/python3.6/site-packages/sklearn/metrics/classification.py\u001b[0m in \u001b[0;36mclassification_report\u001b[0;34m(y_true, y_pred, labels, target_names, sample_weight, digits)\u001b[0m\n\u001b[1;32m   1444\u001b[0m                                                   \u001b[0mlabels\u001b[0m\u001b[0;34m=\u001b[0m\u001b[0mlabels\u001b[0m\u001b[0;34m,\u001b[0m\u001b[0;34m\u001b[0m\u001b[0m\n\u001b[1;32m   1445\u001b[0m                                                   \u001b[0maverage\u001b[0m\u001b[0;34m=\u001b[0m\u001b[0;32mNone\u001b[0m\u001b[0;34m,\u001b[0m\u001b[0;34m\u001b[0m\u001b[0m\n\u001b[0;32m-> 1446\u001b[0;31m                                                   sample_weight=sample_weight)\n\u001b[0m\u001b[1;32m   1447\u001b[0m \u001b[0;34m\u001b[0m\u001b[0m\n\u001b[1;32m   1448\u001b[0m     \u001b[0mrow_fmt\u001b[0m \u001b[0;34m=\u001b[0m \u001b[0;34mu'{:>{width}s} '\u001b[0m \u001b[0;34m+\u001b[0m \u001b[0;34mu' {:>9.{digits}f}'\u001b[0m \u001b[0;34m*\u001b[0m \u001b[0;36m3\u001b[0m \u001b[0;34m+\u001b[0m \u001b[0;34mu' {:>9}\\n'\u001b[0m\u001b[0;34m\u001b[0m\u001b[0m\n",
      "\u001b[0;32m~/anaconda3/lib/python3.6/site-packages/sklearn/metrics/classification.py\u001b[0m in \u001b[0;36mprecision_recall_fscore_support\u001b[0;34m(y_true, y_pred, beta, labels, pos_label, average, warn_for, sample_weight)\u001b[0m\n\u001b[1;32m   1023\u001b[0m         \u001b[0;32mraise\u001b[0m \u001b[0mValueError\u001b[0m\u001b[0;34m(\u001b[0m\u001b[0;34m\"beta should be >0 in the F-beta score\"\u001b[0m\u001b[0;34m)\u001b[0m\u001b[0;34m\u001b[0m\u001b[0m\n\u001b[1;32m   1024\u001b[0m \u001b[0;34m\u001b[0m\u001b[0m\n\u001b[0;32m-> 1025\u001b[0;31m     \u001b[0my_type\u001b[0m\u001b[0;34m,\u001b[0m \u001b[0my_true\u001b[0m\u001b[0;34m,\u001b[0m \u001b[0my_pred\u001b[0m \u001b[0;34m=\u001b[0m \u001b[0m_check_targets\u001b[0m\u001b[0;34m(\u001b[0m\u001b[0my_true\u001b[0m\u001b[0;34m,\u001b[0m \u001b[0my_pred\u001b[0m\u001b[0;34m)\u001b[0m\u001b[0;34m\u001b[0m\u001b[0m\n\u001b[0m\u001b[1;32m   1026\u001b[0m     \u001b[0mpresent_labels\u001b[0m \u001b[0;34m=\u001b[0m \u001b[0munique_labels\u001b[0m\u001b[0;34m(\u001b[0m\u001b[0my_true\u001b[0m\u001b[0;34m,\u001b[0m \u001b[0my_pred\u001b[0m\u001b[0;34m)\u001b[0m\u001b[0;34m\u001b[0m\u001b[0m\n\u001b[1;32m   1027\u001b[0m \u001b[0;34m\u001b[0m\u001b[0m\n",
      "\u001b[0;32m~/anaconda3/lib/python3.6/site-packages/sklearn/metrics/classification.py\u001b[0m in \u001b[0;36m_check_targets\u001b[0;34m(y_true, y_pred)\u001b[0m\n\u001b[1;32m     69\u001b[0m     \u001b[0my_pred\u001b[0m \u001b[0;34m:\u001b[0m \u001b[0marray\u001b[0m \u001b[0;32mor\u001b[0m \u001b[0mindicator\u001b[0m \u001b[0mmatrix\u001b[0m\u001b[0;34m\u001b[0m\u001b[0m\n\u001b[1;32m     70\u001b[0m     \"\"\"\n\u001b[0;32m---> 71\u001b[0;31m     \u001b[0mcheck_consistent_length\u001b[0m\u001b[0;34m(\u001b[0m\u001b[0my_true\u001b[0m\u001b[0;34m,\u001b[0m \u001b[0my_pred\u001b[0m\u001b[0;34m)\u001b[0m\u001b[0;34m\u001b[0m\u001b[0m\n\u001b[0m\u001b[1;32m     72\u001b[0m     \u001b[0mtype_true\u001b[0m \u001b[0;34m=\u001b[0m \u001b[0mtype_of_target\u001b[0m\u001b[0;34m(\u001b[0m\u001b[0my_true\u001b[0m\u001b[0;34m)\u001b[0m\u001b[0;34m\u001b[0m\u001b[0m\n\u001b[1;32m     73\u001b[0m     \u001b[0mtype_pred\u001b[0m \u001b[0;34m=\u001b[0m \u001b[0mtype_of_target\u001b[0m\u001b[0;34m(\u001b[0m\u001b[0my_pred\u001b[0m\u001b[0;34m)\u001b[0m\u001b[0;34m\u001b[0m\u001b[0m\n",
      "\u001b[0;32m~/anaconda3/lib/python3.6/site-packages/sklearn/utils/validation.py\u001b[0m in \u001b[0;36mcheck_consistent_length\u001b[0;34m(*arrays)\u001b[0m\n\u001b[1;32m    202\u001b[0m     \u001b[0;32mif\u001b[0m \u001b[0mlen\u001b[0m\u001b[0;34m(\u001b[0m\u001b[0muniques\u001b[0m\u001b[0;34m)\u001b[0m \u001b[0;34m>\u001b[0m \u001b[0;36m1\u001b[0m\u001b[0;34m:\u001b[0m\u001b[0;34m\u001b[0m\u001b[0m\n\u001b[1;32m    203\u001b[0m         raise ValueError(\"Found input variables with inconsistent numbers of\"\n\u001b[0;32m--> 204\u001b[0;31m                          \" samples: %r\" % [int(l) for l in lengths])\n\u001b[0m\u001b[1;32m    205\u001b[0m \u001b[0;34m\u001b[0m\u001b[0m\n\u001b[1;32m    206\u001b[0m \u001b[0;34m\u001b[0m\u001b[0m\n",
      "\u001b[0;31mValueError\u001b[0m: Found input variables with inconsistent numbers of samples: [14059, 1000]"
     ]
    }
   ],
   "source": [
    "%%time\n",
    "# RANDOM FOREST \n",
    "from sklearn.ensemble import RandomForestClassifier\n",
    "forest_clf = RandomForestClassifier(n_estimators = 1000)\n",
    "forest_clf.fit(X_train2, y_train2)\n",
    "forest_predict = forest_clf.predict(X_test2)\n",
    "print(np.mean(predicted == y_test2))\n",
    "\n",
    "print(classification_report(y_test, forest_predict))"
   ]
  },
  {
   "cell_type": "code",
   "execution_count": 27,
   "metadata": {},
   "outputs": [
    {
     "name": "stdout",
     "output_type": "stream",
     "text": [
      "best cross-val score: 0.41\n",
      "best params: {'n_estimators': 2000}\n",
      "CPU times: user 35min 42s, sys: 1min 56s, total: 37min 39s\n",
      "Wall time: 53min 8s\n"
     ]
    }
   ],
   "source": [
    "%%time\n",
    "# GRID SEARCH for RANDOM FOREST\n",
    "from sklearn.model_selection import GridSearchCV\n",
    "\n",
    "param_grid = {'n_estimators': [600, 1000, 2000]}\n",
    "grid = GridSearchCV(RandomForestClassifier(), param_grid, cv=5)\n",
    "grid.fit(X_train2, y_train2)\n",
    "print('best cross-val score: {:.2f}'.format(grid.best_score_))\n",
    "print('best params:', grid.best_params_)"
   ]
  },
  {
   "cell_type": "code",
   "execution_count": null,
   "metadata": {
    "collapsed": true
   },
   "outputs": [],
   "source": []
  },
  {
   "cell_type": "code",
   "execution_count": 53,
   "metadata": {},
   "outputs": [
    {
     "name": "stdout",
     "output_type": "stream",
     "text": [
      "0.397\n",
      "CPU times: user 23min 7s, sys: 9.23 s, total: 23min 17s\n",
      "Wall time: 25min 4s\n"
     ]
    }
   ],
   "source": [
    "%%time\n",
    "# GRADIENT BOOSTING CLASSIFIER  this is slow, with training data 5,000 reviews it takes 54 min\n",
    "from sklearn.ensemble import GradientBoostingClassifier\n",
    "\n",
    "gbc = GradientBoostingClassifier(learning_rate= 0.06, n_estimators= 100)\n",
    "gbc.fit(X_train2, y_train2)\n",
    "predicted = forest_clf.predict(X_test2) \n",
    "print(np.mean(predicted == y_test2))"
   ]
  },
  {
   "cell_type": "code",
   "execution_count": null,
   "metadata": {
    "collapsed": true
   },
   "outputs": [],
   "source": []
  },
  {
   "cell_type": "code",
   "execution_count": null,
   "metadata": {},
   "outputs": [],
   "source": [
    "# feature importances\n",
    "feat_imp = pd.Series(gbc.feature_importances_, predicted).sort_values(ascending=False)\n",
    "feat_imp.plot(kind='bar', title='Feature Importances')\n",
    "plt.ylabel('Score')\n",
    "plt.show()"
   ]
  },
  {
   "cell_type": "code",
   "execution_count": null,
   "metadata": {
    "collapsed": true
   },
   "outputs": [],
   "source": []
  },
  {
   "cell_type": "code",
   "execution_count": null,
   "metadata": {
    "collapsed": true
   },
   "outputs": [],
   "source": [
    "%%time\n",
    "# GRID SEARCH for GBC\n",
    "\n",
    "param_grid = {'learning_rate': [0.06, 0.1, 1.5], 'n_estimators': [50, 75, 100]}\n",
    "grid = GridSearchCV(GradientBoostingClassifier(), param_grid, cv=5)\n",
    "grid.fit(X_train2, y_train2)\n",
    "print('best params:', grid.best_params_)"
   ]
  },
  {
   "cell_type": "code",
   "execution_count": 16,
   "metadata": {},
   "outputs": [
    {
     "name": "stdout",
     "output_type": "stream",
     "text": [
      "0.652464613415\n",
      "CPU times: user 3min 4s, sys: 1.05 s, total: 3min 5s\n",
      "Wall time: 3min 29s\n"
     ]
    }
   ],
   "source": [
    "%%time\n",
    "# LOGISTIC REGRESSION  this takes about 15 minutes on full set\n",
    "#after cleaning, 0.575,  after combined styles 0.6218\n",
    "#  increasing ngram lowers to .6060\n",
    "\n",
    "logreg = LogisticRegression(C=100, tol=0.001)\n",
    "logreg.fit(X_train, y_train)\n",
    "predicted = logreg.predict(X_test)\n",
    "print(np.mean(predicted == y_test))"
   ]
  },
  {
   "cell_type": "code",
   "execution_count": 17,
   "metadata": {},
   "outputs": [
    {
     "name": "stdout",
     "output_type": "stream",
     "text": [
      "                                precision    recall  f1-score   support\n",
      "\n",
      "                       Altbier       0.81      0.56      0.66        61\n",
      "      American Amber / Red Ale       0.51      0.57      0.54       420\n",
      "            American Black Ale       0.74      0.64      0.68       157\n",
      "           American Blonde Ale       0.53      0.50      0.52       230\n",
      "American Double / Imperial IPA       0.68      0.70      0.69       793\n",
      "                American Lager       0.58      0.59      0.59       239\n",
      "           American Strong Ale       0.48      0.38      0.42       119\n",
      "             American Wild Ale       0.66      0.72      0.69       558\n",
      "                    Barleywine       0.77      0.75      0.76       236\n",
      "              Belgian Dark Ale       0.42      0.16      0.23        68\n",
      "       Belgian Strong Dark Ale       0.57      0.51      0.53       128\n",
      "       Belgian Strong Pale Ale       0.56      0.37      0.44       125\n",
      "            Berliner Weissbier       0.77      0.62      0.69       161\n",
      "                        Bitter       0.63      0.64      0.63       354\n",
      "                          Bock       0.78      0.50      0.61        78\n",
      "                     Brown Ale       0.62      0.68      0.65       445\n",
      "                     Cream Ale       0.77      0.62      0.69        77\n",
      "                Czech Pilsener       0.78      0.50      0.61       137\n",
      "                    Doppelbock       0.84      0.62      0.72        85\n",
      "                        Dubbel       0.75      0.61      0.67        90\n",
      "                  Dunkelweizen       0.90      0.57      0.70        63\n",
      "               Euro Dark Lager       0.60      0.27      0.37        55\n",
      "               Euro Pale Lager       0.59      0.51      0.55       158\n",
      "                      Farm Ale       0.68      0.74      0.71       674\n",
      "        Fruit / Vegetable Beer       0.56      0.50      0.53       335\n",
      "                          Gose       0.92      0.75      0.83       110\n",
      "                    Hefeweizen       0.83      0.78      0.80       247\n",
      "          Herbed / Spiced Beer       0.52      0.39      0.45       135\n",
      "                           IPA       0.66      0.78      0.71      1907\n",
      "                Imperial Stout       0.58      0.63      0.60       470\n",
      "               Irish Dry Stout       0.76      0.48      0.59        91\n",
      "                 Irish Red Ale       0.77      0.40      0.52        86\n",
      "      Kellerbier / Zwickelbier       0.83      0.47      0.60        62\n",
      "                        Kölsch       0.88      0.65      0.75       117\n",
      "                         Lager       0.61      0.61      0.61       439\n",
      "                Lambic - Fruit       0.75      0.41      0.53        44\n",
      "                   Light Lager       0.75      0.42      0.54        64\n",
      "         Maibock / Helles Bock       0.87      0.52      0.65        89\n",
      "           Munich Dunkel Lager       0.64      0.56      0.60        61\n",
      "          Märzen / Oktoberfest       0.81      0.72      0.76       152\n",
      "                       Old Ale       0.65      0.21      0.31        53\n",
      "                      Pale Ale       0.54      0.64      0.59      1269\n",
      "                        Porter       0.71      0.77      0.74       629\n",
      "                   Pumpkin Ale       0.82      0.83      0.82        96\n",
      "              Quadrupel (Quad)       0.84      0.69      0.75        89\n",
      "        Russian Imperial Stout       0.68      0.46      0.55       228\n",
      "                      Rye Beer       0.71      0.54      0.61       127\n",
      "                   Schwarzbier       0.84      0.54      0.65        95\n",
      "                  Scottish Ale       0.73      0.67      0.70       188\n",
      "                   Smoked Beer       0.62      0.49      0.55        59\n",
      "                         Stout       0.63      0.75      0.69       673\n",
      "                        Tripel       0.82      0.73      0.77       142\n",
      "                         Wheat       0.70      0.69      0.70       385\n",
      "                 Winter Warmer       0.72      0.51      0.60       106\n",
      "\n",
      "                   avg / total       0.66      0.65      0.65     14059\n",
      "\n"
     ]
    }
   ],
   "source": [
    "from sklearn.metrics import classification_report, confusion_matrix\n",
    "from sklearn import metrics\n",
    "\n",
    "print(classification_report(y_test, predicted))"
   ]
  },
  {
   "cell_type": "code",
   "execution_count": 26,
   "metadata": {},
   "outputs": [
    {
     "data": {
      "text/plain": [
       "14059"
      ]
     },
     "execution_count": 26,
     "metadata": {},
     "output_type": "execute_result"
    }
   ],
   "source": [
    "len(labels)"
   ]
  },
  {
   "cell_type": "code",
   "execution_count": 24,
   "metadata": {
    "collapsed": true
   },
   "outputs": [],
   "source": [
    "# use a heat map\n",
    "import matplotlib.pyplot as plt \n",
    "import seaborn as sns\n",
    "labels = y_test.tolist()\n",
    "matrix = confusion_matrix(y_test, predicted)"
   ]
  },
  {
   "cell_type": "code",
   "execution_count": 27,
   "metadata": {},
   "outputs": [
    {
     "ename": "AttributeError",
     "evalue": "'NoneType' object has no attribute 'seq'",
     "output_type": "error",
     "traceback": [
      "\u001b[0;31m---------------------------------------------------------------------------\u001b[0m",
      "\u001b[0;31mAttributeError\u001b[0m                            Traceback (most recent call last)",
      "\u001b[0;32m<ipython-input-27-79f73fa8b038>\u001b[0m in \u001b[0;36m<module>\u001b[0;34m()\u001b[0m\n\u001b[1;32m      4\u001b[0m \u001b[0mplt\u001b[0m\u001b[0;34m.\u001b[0m\u001b[0mxlabel\u001b[0m\u001b[0;34m(\u001b[0m\u001b[0;34m\"true label\"\u001b[0m\u001b[0;34m)\u001b[0m\u001b[0;34m\u001b[0m\u001b[0m\n\u001b[1;32m      5\u001b[0m \u001b[0mplt\u001b[0m\u001b[0;34m.\u001b[0m\u001b[0mylabel\u001b[0m\u001b[0;34m(\u001b[0m\u001b[0;34m\"predicted label\"\u001b[0m\u001b[0;34m)\u001b[0m\u001b[0;34m\u001b[0m\u001b[0m\n\u001b[0;32m----> 6\u001b[0;31m \u001b[0mplt\u001b[0m\u001b[0;34m.\u001b[0m\u001b[0mxticks\u001b[0m\u001b[0;34m(\u001b[0m\u001b[0mlabels\u001b[0m\u001b[0;34m,\u001b[0m \u001b[0mrotation\u001b[0m \u001b[0;34m=\u001b[0m \u001b[0;36m80\u001b[0m\u001b[0;34m)\u001b[0m\u001b[0;34m\u001b[0m\u001b[0m\n\u001b[0m\u001b[1;32m      7\u001b[0m \u001b[0mplt\u001b[0m\u001b[0;34m.\u001b[0m\u001b[0mshow\u001b[0m\u001b[0;34m(\u001b[0m\u001b[0;34m)\u001b[0m\u001b[0;34m\u001b[0m\u001b[0m\n",
      "\u001b[0;32m~/anaconda3/lib/python3.6/site-packages/matplotlib/pyplot.py\u001b[0m in \u001b[0;36mxticks\u001b[0;34m(*args, **kwargs)\u001b[0m\n\u001b[1;32m   1613\u001b[0m         \u001b[0mlabels\u001b[0m \u001b[0;34m=\u001b[0m \u001b[0max\u001b[0m\u001b[0;34m.\u001b[0m\u001b[0mget_xticklabels\u001b[0m\u001b[0;34m(\u001b[0m\u001b[0;34m)\u001b[0m\u001b[0;34m\u001b[0m\u001b[0m\n\u001b[1;32m   1614\u001b[0m     \u001b[0;32melif\u001b[0m \u001b[0mlen\u001b[0m\u001b[0;34m(\u001b[0m\u001b[0margs\u001b[0m\u001b[0;34m)\u001b[0m\u001b[0;34m==\u001b[0m\u001b[0;36m1\u001b[0m\u001b[0;34m:\u001b[0m\u001b[0;34m\u001b[0m\u001b[0m\n\u001b[0;32m-> 1615\u001b[0;31m         \u001b[0mlocs\u001b[0m \u001b[0;34m=\u001b[0m \u001b[0max\u001b[0m\u001b[0;34m.\u001b[0m\u001b[0mset_xticks\u001b[0m\u001b[0;34m(\u001b[0m\u001b[0margs\u001b[0m\u001b[0;34m[\u001b[0m\u001b[0;36m0\u001b[0m\u001b[0;34m]\u001b[0m\u001b[0;34m)\u001b[0m\u001b[0;34m\u001b[0m\u001b[0m\n\u001b[0m\u001b[1;32m   1616\u001b[0m         \u001b[0mlabels\u001b[0m \u001b[0;34m=\u001b[0m \u001b[0max\u001b[0m\u001b[0;34m.\u001b[0m\u001b[0mget_xticklabels\u001b[0m\u001b[0;34m(\u001b[0m\u001b[0;34m)\u001b[0m\u001b[0;34m\u001b[0m\u001b[0m\n\u001b[1;32m   1617\u001b[0m     \u001b[0;32melif\u001b[0m \u001b[0mlen\u001b[0m\u001b[0;34m(\u001b[0m\u001b[0margs\u001b[0m\u001b[0;34m)\u001b[0m\u001b[0;34m==\u001b[0m\u001b[0;36m2\u001b[0m\u001b[0;34m:\u001b[0m\u001b[0;34m\u001b[0m\u001b[0m\n",
      "\u001b[0;32m~/anaconda3/lib/python3.6/site-packages/matplotlib/axes/_base.py\u001b[0m in \u001b[0;36mset_xticks\u001b[0;34m(self, ticks, minor)\u001b[0m\n\u001b[1;32m   3001\u001b[0m             \u001b[0mDefault\u001b[0m \u001b[0;32mis\u001b[0m\u001b[0;31m \u001b[0m\u001b[0;31m`\u001b[0m\u001b[0;31m`\u001b[0m\u001b[0;32mFalse\u001b[0m\u001b[0;31m`\u001b[0m\u001b[0;31m`\u001b[0m\u001b[0;34m.\u001b[0m\u001b[0;34m\u001b[0m\u001b[0m\n\u001b[1;32m   3002\u001b[0m         \"\"\"\n\u001b[0;32m-> 3003\u001b[0;31m         \u001b[0mret\u001b[0m \u001b[0;34m=\u001b[0m \u001b[0mself\u001b[0m\u001b[0;34m.\u001b[0m\u001b[0mxaxis\u001b[0m\u001b[0;34m.\u001b[0m\u001b[0mset_ticks\u001b[0m\u001b[0;34m(\u001b[0m\u001b[0mticks\u001b[0m\u001b[0;34m,\u001b[0m \u001b[0mminor\u001b[0m\u001b[0;34m=\u001b[0m\u001b[0mminor\u001b[0m\u001b[0;34m)\u001b[0m\u001b[0;34m\u001b[0m\u001b[0m\n\u001b[0m\u001b[1;32m   3004\u001b[0m         \u001b[0mself\u001b[0m\u001b[0;34m.\u001b[0m\u001b[0mstale\u001b[0m \u001b[0;34m=\u001b[0m \u001b[0;32mTrue\u001b[0m\u001b[0;34m\u001b[0m\u001b[0m\n\u001b[1;32m   3005\u001b[0m         \u001b[0;32mreturn\u001b[0m \u001b[0mret\u001b[0m\u001b[0;34m\u001b[0m\u001b[0m\n",
      "\u001b[0;32m~/anaconda3/lib/python3.6/site-packages/matplotlib/axis.py\u001b[0m in \u001b[0;36mset_ticks\u001b[0;34m(self, ticks, minor)\u001b[0m\n\u001b[1;32m   1641\u001b[0m         \"\"\"\n\u001b[1;32m   1642\u001b[0m         \u001b[0;31m# XXX if the user changes units, the information will be lost here\u001b[0m\u001b[0;34m\u001b[0m\u001b[0;34m\u001b[0m\u001b[0m\n\u001b[0;32m-> 1643\u001b[0;31m         \u001b[0mticks\u001b[0m \u001b[0;34m=\u001b[0m \u001b[0mself\u001b[0m\u001b[0;34m.\u001b[0m\u001b[0mconvert_units\u001b[0m\u001b[0;34m(\u001b[0m\u001b[0mticks\u001b[0m\u001b[0;34m)\u001b[0m\u001b[0;34m\u001b[0m\u001b[0m\n\u001b[0m\u001b[1;32m   1644\u001b[0m         \u001b[0;32mif\u001b[0m \u001b[0mlen\u001b[0m\u001b[0;34m(\u001b[0m\u001b[0mticks\u001b[0m\u001b[0;34m)\u001b[0m \u001b[0;34m>\u001b[0m \u001b[0;36m1\u001b[0m\u001b[0;34m:\u001b[0m\u001b[0;34m\u001b[0m\u001b[0m\n\u001b[1;32m   1645\u001b[0m             \u001b[0mxleft\u001b[0m\u001b[0;34m,\u001b[0m \u001b[0mxright\u001b[0m \u001b[0;34m=\u001b[0m \u001b[0mself\u001b[0m\u001b[0;34m.\u001b[0m\u001b[0mget_view_interval\u001b[0m\u001b[0;34m(\u001b[0m\u001b[0;34m)\u001b[0m\u001b[0;34m\u001b[0m\u001b[0m\n",
      "\u001b[0;32m~/anaconda3/lib/python3.6/site-packages/matplotlib/axis.py\u001b[0m in \u001b[0;36mconvert_units\u001b[0;34m(self, x)\u001b[0m\n\u001b[1;32m   1489\u001b[0m             \u001b[0;32mreturn\u001b[0m \u001b[0mx\u001b[0m\u001b[0;34m\u001b[0m\u001b[0m\n\u001b[1;32m   1490\u001b[0m \u001b[0;34m\u001b[0m\u001b[0m\n\u001b[0;32m-> 1491\u001b[0;31m         \u001b[0mret\u001b[0m \u001b[0;34m=\u001b[0m \u001b[0mself\u001b[0m\u001b[0;34m.\u001b[0m\u001b[0mconverter\u001b[0m\u001b[0;34m.\u001b[0m\u001b[0mconvert\u001b[0m\u001b[0;34m(\u001b[0m\u001b[0mx\u001b[0m\u001b[0;34m,\u001b[0m \u001b[0mself\u001b[0m\u001b[0;34m.\u001b[0m\u001b[0munits\u001b[0m\u001b[0;34m,\u001b[0m \u001b[0mself\u001b[0m\u001b[0;34m)\u001b[0m\u001b[0;34m\u001b[0m\u001b[0m\n\u001b[0m\u001b[1;32m   1492\u001b[0m         \u001b[0;32mreturn\u001b[0m \u001b[0mret\u001b[0m\u001b[0;34m\u001b[0m\u001b[0m\n\u001b[1;32m   1493\u001b[0m \u001b[0;34m\u001b[0m\u001b[0m\n",
      "\u001b[0;32m~/anaconda3/lib/python3.6/site-packages/matplotlib/category.py\u001b[0m in \u001b[0;36mconvert\u001b[0;34m(value, unit, axis)\u001b[0m\n\u001b[1;32m     41\u001b[0m         \u001b[0mdata\u001b[0m \u001b[0;32mas\u001b[0m \u001b[0mfloats\u001b[0m\u001b[0;34m\u001b[0m\u001b[0m\n\u001b[1;32m     42\u001b[0m         \"\"\"\n\u001b[0;32m---> 43\u001b[0;31m         \u001b[0mvmap\u001b[0m \u001b[0;34m=\u001b[0m \u001b[0mdict\u001b[0m\u001b[0;34m(\u001b[0m\u001b[0mzip\u001b[0m\u001b[0;34m(\u001b[0m\u001b[0maxis\u001b[0m\u001b[0;34m.\u001b[0m\u001b[0munit_data\u001b[0m\u001b[0;34m.\u001b[0m\u001b[0mseq\u001b[0m\u001b[0;34m,\u001b[0m \u001b[0maxis\u001b[0m\u001b[0;34m.\u001b[0m\u001b[0munit_data\u001b[0m\u001b[0;34m.\u001b[0m\u001b[0mlocs\u001b[0m\u001b[0;34m)\u001b[0m\u001b[0;34m)\u001b[0m\u001b[0;34m\u001b[0m\u001b[0m\n\u001b[0m\u001b[1;32m     44\u001b[0m \u001b[0;34m\u001b[0m\u001b[0m\n\u001b[1;32m     45\u001b[0m         \u001b[0;32mif\u001b[0m \u001b[0misinstance\u001b[0m\u001b[0;34m(\u001b[0m\u001b[0mvalue\u001b[0m\u001b[0;34m,\u001b[0m \u001b[0msix\u001b[0m\u001b[0;34m.\u001b[0m\u001b[0mstring_types\u001b[0m\u001b[0;34m)\u001b[0m\u001b[0;34m:\u001b[0m\u001b[0;34m\u001b[0m\u001b[0m\n",
      "\u001b[0;31mAttributeError\u001b[0m: 'NoneType' object has no attribute 'seq'"
     ]
    }
   ],
   "source": [
    "fig= plt.figure( figsize = (10,10))\n",
    "fig.add_subplot(111)\n",
    "sns.heatmap(matrix,annot=True,square=True,cbar=False,fmt=\"d\")\n",
    "plt.xlabel(\"true label\")\n",
    "plt.ylabel(\"predicted label\")\n",
    "plt.xticks(labels, rotation = 80)\n",
    "plt.show()"
   ]
  },
  {
   "cell_type": "code",
   "execution_count": 107,
   "metadata": {},
   "outputs": [
    {
     "name": "stdout",
     "output_type": "stream",
     "text": [
      "['IPA' 'American Double / Imperial IPA' 'IPA' ..., 'IPA'\n",
      " 'Kellerbier / Zwickelbier' 'Farm Ale']\n"
     ]
    }
   ],
   "source": [
    "print(y_test)"
   ]
  },
  {
   "cell_type": "code",
   "execution_count": null,
   "metadata": {
    "collapsed": true
   },
   "outputs": [],
   "source": [
    "import seaborn as sns\n",
    "\n",
    "labels = y_test\n",
    "matrix = confusion_matrix(y_test, predicted, labels)\n"
   ]
  },
  {
   "cell_type": "code",
   "execution_count": null,
   "metadata": {
    "collapsed": true
   },
   "outputs": [],
   "source": [
    "\n",
    "fig=plt.figure( figsize = (12,12))\n",
    "ax = fig.add_subplot(111)\n",
    "_= sns.heatmap(matrix, annot=True,square=True,cbar=False,fmt=\"d\")\n",
    "_= plt.xlabel(\"true label\")\n",
    "_= plt.ylabel(\"predicted label\")\n",
    "ax.set_xticklabels([''] + labels)\n",
    "ax.set_yticklabels([''] + labels)\n",
    "\n",
    "plt.show()"
   ]
  },
  {
   "cell_type": "code",
   "execution_count": null,
   "metadata": {
    "collapsed": true
   },
   "outputs": [],
   "source": []
  },
  {
   "cell_type": "code",
   "execution_count": null,
   "metadata": {
    "collapsed": true
   },
   "outputs": [],
   "source": []
  },
  {
   "cell_type": "code",
   "execution_count": 49,
   "metadata": {},
   "outputs": [
    {
     "data": {
      "text/plain": [
       "array([[ -2.75996866e-02,   0.00000000e+00,  -2.92078367e-03, ...,\n",
       "         -1.60240681e-03,  -2.47800435e-04,  -2.47800435e-04],\n",
       "       [ -2.03229571e-01,   0.00000000e+00,  -3.41131009e-02, ...,\n",
       "         -4.23641057e-03,  -1.09377630e-04,  -1.09377630e-04],\n",
       "       [ -8.65955765e-02,   0.00000000e+00,  -1.33724374e-02, ...,\n",
       "         -9.01983017e-04,  -1.34028060e-04,  -1.34028060e-04],\n",
       "       ..., \n",
       "       [ -8.90663943e-02,   0.00000000e+00,  -2.63651722e-02, ...,\n",
       "         -1.61107214e-03,  -5.88763432e-05,  -5.88763432e-05],\n",
       "       [ -8.24345869e-02,   0.00000000e+00,  -5.04145964e-02, ...,\n",
       "         -3.25702057e-03,  -4.09216318e-05,  -4.09216318e-05],\n",
       "       [ -3.58738295e-02,   0.00000000e+00,  -5.78167415e-03, ...,\n",
       "         -6.38893506e-04,  -1.46713162e-03,  -1.46713162e-03]])"
      ]
     },
     "execution_count": 49,
     "metadata": {},
     "output_type": "execute_result"
    }
   ],
   "source": [
    "logreg.coef_"
   ]
  },
  {
   "cell_type": "code",
   "execution_count": null,
   "metadata": {
    "collapsed": true
   },
   "outputs": [],
   "source": []
  },
  {
   "cell_type": "code",
   "execution_count": null,
   "metadata": {
    "collapsed": true
   },
   "outputs": [],
   "source": []
  },
  {
   "cell_type": "code",
   "execution_count": 339,
   "metadata": {},
   "outputs": [
    {
     "name": "stdout",
     "output_type": "stream",
     "text": [
      "best cross-val score: 0.67\n",
      "best params: {'C': 10, 'tol': 0.001}\n"
     ]
    }
   ],
   "source": [
    "###  this is quite slow.  \n",
    "from sklearn.model_selection import GridSearchCV\n",
    "from sklearn.model_selection import cross_val_score\n",
    "from sklearn.linear_model import LogisticRegression\n",
    "\n",
    "param_grid = {'C': [0.01, 0.1, 1,10],'tol':[0.001,0.0001,0.00001]}\n",
    "grid = GridSearchCV(LogisticRegression(), param_grid, cv=5)\n",
    "grid.fit(X_train, y_train)\n",
    "print('best cross-val score: {:.2f}'.format(grid.best_score_))\n",
    "print('best params:', grid.best_params_)"
   ]
  },
  {
   "cell_type": "code",
   "execution_count": 354,
   "metadata": {
    "collapsed": true
   },
   "outputs": [],
   "source": []
  },
  {
   "cell_type": "code",
   "execution_count": null,
   "metadata": {
    "collapsed": true
   },
   "outputs": [],
   "source": []
  },
  {
   "cell_type": "code",
   "execution_count": 95,
   "metadata": {
    "collapsed": true,
    "scrolled": true
   },
   "outputs": [],
   "source": [
    "# KMEANS COULD BE USED TO GROUP STYLES TOGETHER.  (use this before consolidating)\n",
    "from sklearn.cluster import KMeans\n",
    "\n",
    "# DATA PREP\n",
    "group_df = df_copy\n",
    "# drop all reviews with < 20 characters\n",
    "group_df = group_df[group_df['review'].map(len) > 20]\n",
    "\n",
    "# Change review to a string of words.  remove non-letters, make lower case, split into words.  \n",
    "# Remove stopwords (common words.)  Join back together into a long string of words.  \n",
    "def review_to_words(review):\n",
    "    letters_only = re.sub('[^a-zA-Z]',' ', review)\n",
    "    words = letters_only.lower().split()\n",
    "    stops = set(stopwords.words('english'))  \n",
    "    good_words = [w for w in words if not w in stops]\n",
    "    return(' '.join(good_words))\n",
    "\n",
    "# clean the reviews\n",
    "df['clean_group_df'] = df['review'].apply(review_to_words)\n",
    "\n",
    "vectorizer = CountVectorizer(analyzer='word', min_df=7)\n",
    "train_data_features = vectorizer.fit_transform(df.clean_group_df)\n",
    "\n",
    "# Initialize the model with 2 parameters -- number of clusters and random state.\n",
    "kmeans_model = KMeans(n_clusters=20, random_state=22)\n",
    "# Get only the styles\n",
    "styles = group_df.style\n",
    "variables = train_data_features\n",
    "# Fit the model using the good columns.\n",
    "kmeans_model.fit(variables)\n",
    "# Get the cluster assignments.\n",
    "labels = kmeans_model.labels_"
   ]
  },
  {
   "cell_type": "code",
   "execution_count": null,
   "metadata": {
    "collapsed": true
   },
   "outputs": [],
   "source": [
    "# Import the PCA model.\n",
    "from sklearn.decomposition import PCA\n",
    "\n",
    "# Create a PCA model.\n",
    "pca_2 = PCA(2)\n",
    "# Fit the PCA model on the numeric columns from earlier.\n",
    "plot_columns = pca_2.fit_transform(labels)\n",
    "# Make a scatter plot of each game, shaded according to cluster assignment.\n",
    "plt.scatter(x=plot_columns[:,0], y=plot_columns[:,1], c=labels)\n",
    "# Show the plot.\n",
    "plt.show()"
   ]
  },
  {
   "cell_type": "code",
   "execution_count": null,
   "metadata": {
    "collapsed": true
   },
   "outputs": [],
   "source": [
    "# or maybe try k nearest neighbors\n",
    "\n",
    "from aklean.neighbors import KNeighborsClassifier\n",
    "knn = KNeighborsClassifier(n_neighbors = 20)\n",
    "knn.fit()\n",
    "prediction = knn.predict"
   ]
  },
  {
   "cell_type": "code",
   "execution_count": null,
   "metadata": {
    "collapsed": true
   },
   "outputs": [],
   "source": []
  },
  {
   "cell_type": "code",
   "execution_count": null,
   "metadata": {
    "collapsed": true
   },
   "outputs": [],
   "source": []
  },
  {
   "cell_type": "markdown",
   "metadata": {},
   "source": [
    "### PREDICT RATING FROM REVIEW\n",
    "random will have std deviation about .70"
   ]
  },
  {
   "cell_type": "code",
   "execution_count": 15,
   "metadata": {},
   "outputs": [
    {
     "name": "stdout",
     "output_type": "stream",
     "text": [
      "ready\n"
     ]
    }
   ],
   "source": [
    "print('ready')"
   ]
  },
  {
   "cell_type": "code",
   "execution_count": 33,
   "metadata": {},
   "outputs": [
    {
     "name": "stdout",
     "output_type": "stream",
     "text": [
      "X_train shape: (32802, 815874)\n",
      "X_test shape: (32802,)\n"
     ]
    }
   ],
   "source": [
    "# PREDICT RATING FROM REVIEWS\n",
    "from sklearn.preprocessing import Normalizer\n",
    "\n",
    "X = df['clean_review'].values\n",
    "y = df['style'].values\n",
    "\n",
    "# vectorize the train data, fit and transform into feature vectors\n",
    "vectorizer = CountVectorizer(analyzer='word', min_df=2, ngram_range = (1,2))\n",
    "X_counts = vectorizer.fit_transform(X)\n",
    "#scaler = Normalizer()\n",
    "#X_scaled = scaler.fit_transform(X_counts)\n",
    "tfidf = TfidfTransformer()\n",
    "X_train_tfidf = tfidf.fit_transform(X_scaled)\n",
    "\n",
    "\n",
    "# split into train and test data\n",
    "X_train,X_test,y_train,y_test = train_test_split(X_scaled,y, test_size=0.3, random_state=22)\n",
    "# make a small set for param tuning\n",
    "\"\"\"X_train2 = X_train[:3600]\n",
    "y_train2 = y_train[:3600]\n",
    "X_test2 = X_test[1000:2000]\n",
    "y_test2 = y_test[1000:2000]\"\"\"\n",
    "\n",
    "print('X_train shape:',X_train.shape)\n",
    "print('X_test shape:',y_train.shape)"
   ]
  },
  {
   "cell_type": "code",
   "execution_count": 34,
   "metadata": {
    "collapsed": true
   },
   "outputs": [],
   "source": [
    "from sklearn.linear_model import LinearRegression\n",
    "linreg = LinearRegression()"
   ]
  },
  {
   "cell_type": "code",
   "execution_count": 35,
   "metadata": {},
   "outputs": [
    {
     "ename": "ValueError",
     "evalue": "could not convert string to float: 'Berliner Weissbier'",
     "output_type": "error",
     "traceback": [
      "\u001b[0;31m---------------------------------------------------------------------------\u001b[0m",
      "\u001b[0;31mValueError\u001b[0m                                Traceback (most recent call last)",
      "\u001b[0;32m<ipython-input-35-3e1c3c9c73df>\u001b[0m in \u001b[0;36m<module>\u001b[0;34m()\u001b[0m\n\u001b[0;32m----> 1\u001b[0;31m \u001b[0mlinreg\u001b[0m\u001b[0;34m.\u001b[0m\u001b[0mfit\u001b[0m\u001b[0;34m(\u001b[0m\u001b[0mX_train\u001b[0m\u001b[0;34m,\u001b[0m \u001b[0my_train\u001b[0m\u001b[0;34m)\u001b[0m\u001b[0;34m\u001b[0m\u001b[0m\n\u001b[0m",
      "\u001b[0;32m~/anaconda3/lib/python3.6/site-packages/sklearn/linear_model/base.py\u001b[0m in \u001b[0;36mfit\u001b[0;34m(self, X, y, sample_weight)\u001b[0m\n\u001b[1;32m    480\u001b[0m         \u001b[0mn_jobs_\u001b[0m \u001b[0;34m=\u001b[0m \u001b[0mself\u001b[0m\u001b[0;34m.\u001b[0m\u001b[0mn_jobs\u001b[0m\u001b[0;34m\u001b[0m\u001b[0m\n\u001b[1;32m    481\u001b[0m         X, y = check_X_y(X, y, accept_sparse=['csr', 'csc', 'coo'],\n\u001b[0;32m--> 482\u001b[0;31m                          y_numeric=True, multi_output=True)\n\u001b[0m\u001b[1;32m    483\u001b[0m \u001b[0;34m\u001b[0m\u001b[0m\n\u001b[1;32m    484\u001b[0m         \u001b[0;32mif\u001b[0m \u001b[0msample_weight\u001b[0m \u001b[0;32mis\u001b[0m \u001b[0;32mnot\u001b[0m \u001b[0;32mNone\u001b[0m \u001b[0;32mand\u001b[0m \u001b[0mnp\u001b[0m\u001b[0;34m.\u001b[0m\u001b[0matleast_1d\u001b[0m\u001b[0;34m(\u001b[0m\u001b[0msample_weight\u001b[0m\u001b[0;34m)\u001b[0m\u001b[0;34m.\u001b[0m\u001b[0mndim\u001b[0m \u001b[0;34m>\u001b[0m \u001b[0;36m1\u001b[0m\u001b[0;34m:\u001b[0m\u001b[0;34m\u001b[0m\u001b[0m\n",
      "\u001b[0;32m~/anaconda3/lib/python3.6/site-packages/sklearn/utils/validation.py\u001b[0m in \u001b[0;36mcheck_X_y\u001b[0;34m(X, y, accept_sparse, dtype, order, copy, force_all_finite, ensure_2d, allow_nd, multi_output, ensure_min_samples, ensure_min_features, y_numeric, warn_on_dtype, estimator)\u001b[0m\n\u001b[1;32m    579\u001b[0m         \u001b[0m_assert_all_finite\u001b[0m\u001b[0;34m(\u001b[0m\u001b[0my\u001b[0m\u001b[0;34m)\u001b[0m\u001b[0;34m\u001b[0m\u001b[0m\n\u001b[1;32m    580\u001b[0m     \u001b[0;32mif\u001b[0m \u001b[0my_numeric\u001b[0m \u001b[0;32mand\u001b[0m \u001b[0my\u001b[0m\u001b[0;34m.\u001b[0m\u001b[0mdtype\u001b[0m\u001b[0;34m.\u001b[0m\u001b[0mkind\u001b[0m \u001b[0;34m==\u001b[0m \u001b[0;34m'O'\u001b[0m\u001b[0;34m:\u001b[0m\u001b[0;34m\u001b[0m\u001b[0m\n\u001b[0;32m--> 581\u001b[0;31m         \u001b[0my\u001b[0m \u001b[0;34m=\u001b[0m \u001b[0my\u001b[0m\u001b[0;34m.\u001b[0m\u001b[0mastype\u001b[0m\u001b[0;34m(\u001b[0m\u001b[0mnp\u001b[0m\u001b[0;34m.\u001b[0m\u001b[0mfloat64\u001b[0m\u001b[0;34m)\u001b[0m\u001b[0;34m\u001b[0m\u001b[0m\n\u001b[0m\u001b[1;32m    582\u001b[0m \u001b[0;34m\u001b[0m\u001b[0m\n\u001b[1;32m    583\u001b[0m     \u001b[0mcheck_consistent_length\u001b[0m\u001b[0;34m(\u001b[0m\u001b[0mX\u001b[0m\u001b[0;34m,\u001b[0m \u001b[0my\u001b[0m\u001b[0;34m)\u001b[0m\u001b[0;34m\u001b[0m\u001b[0m\n",
      "\u001b[0;31mValueError\u001b[0m: could not convert string to float: 'Berliner Weissbier'"
     ]
    }
   ],
   "source": [
    "linreg.fit(X_train, y_train)"
   ]
  },
  {
   "cell_type": "code",
   "execution_count": null,
   "metadata": {
    "collapsed": true
   },
   "outputs": [],
   "source": []
  },
  {
   "cell_type": "code",
   "execution_count": null,
   "metadata": {
    "collapsed": true
   },
   "outputs": [],
   "source": []
  },
  {
   "cell_type": "code",
   "execution_count": 22,
   "metadata": {},
   "outputs": [
    {
     "ename": "ValueError",
     "evalue": "could not convert string to float: 'Berliner Weissbier'",
     "output_type": "error",
     "traceback": [
      "\u001b[0;31m---------------------------------------------------------------------------\u001b[0m",
      "\u001b[0;31mValueError\u001b[0m                                Traceback (most recent call last)",
      "\u001b[0;32m<timed exec>\u001b[0m in \u001b[0;36m<module>\u001b[0;34m()\u001b[0m\n",
      "\u001b[0;32m~/anaconda3/lib/python3.6/site-packages/sklearn/linear_model/base.py\u001b[0m in \u001b[0;36mfit\u001b[0;34m(self, X, y, sample_weight)\u001b[0m\n\u001b[1;32m    480\u001b[0m         \u001b[0mn_jobs_\u001b[0m \u001b[0;34m=\u001b[0m \u001b[0mself\u001b[0m\u001b[0;34m.\u001b[0m\u001b[0mn_jobs\u001b[0m\u001b[0;34m\u001b[0m\u001b[0m\n\u001b[1;32m    481\u001b[0m         X, y = check_X_y(X, y, accept_sparse=['csr', 'csc', 'coo'],\n\u001b[0;32m--> 482\u001b[0;31m                          y_numeric=True, multi_output=True)\n\u001b[0m\u001b[1;32m    483\u001b[0m \u001b[0;34m\u001b[0m\u001b[0m\n\u001b[1;32m    484\u001b[0m         \u001b[0;32mif\u001b[0m \u001b[0msample_weight\u001b[0m \u001b[0;32mis\u001b[0m \u001b[0;32mnot\u001b[0m \u001b[0;32mNone\u001b[0m \u001b[0;32mand\u001b[0m \u001b[0mnp\u001b[0m\u001b[0;34m.\u001b[0m\u001b[0matleast_1d\u001b[0m\u001b[0;34m(\u001b[0m\u001b[0msample_weight\u001b[0m\u001b[0;34m)\u001b[0m\u001b[0;34m.\u001b[0m\u001b[0mndim\u001b[0m \u001b[0;34m>\u001b[0m \u001b[0;36m1\u001b[0m\u001b[0;34m:\u001b[0m\u001b[0;34m\u001b[0m\u001b[0m\n",
      "\u001b[0;32m~/anaconda3/lib/python3.6/site-packages/sklearn/utils/validation.py\u001b[0m in \u001b[0;36mcheck_X_y\u001b[0;34m(X, y, accept_sparse, dtype, order, copy, force_all_finite, ensure_2d, allow_nd, multi_output, ensure_min_samples, ensure_min_features, y_numeric, warn_on_dtype, estimator)\u001b[0m\n\u001b[1;32m    579\u001b[0m         \u001b[0m_assert_all_finite\u001b[0m\u001b[0;34m(\u001b[0m\u001b[0my\u001b[0m\u001b[0;34m)\u001b[0m\u001b[0;34m\u001b[0m\u001b[0m\n\u001b[1;32m    580\u001b[0m     \u001b[0;32mif\u001b[0m \u001b[0my_numeric\u001b[0m \u001b[0;32mand\u001b[0m \u001b[0my\u001b[0m\u001b[0;34m.\u001b[0m\u001b[0mdtype\u001b[0m\u001b[0;34m.\u001b[0m\u001b[0mkind\u001b[0m \u001b[0;34m==\u001b[0m \u001b[0;34m'O'\u001b[0m\u001b[0;34m:\u001b[0m\u001b[0;34m\u001b[0m\u001b[0m\n\u001b[0;32m--> 581\u001b[0;31m         \u001b[0my\u001b[0m \u001b[0;34m=\u001b[0m \u001b[0my\u001b[0m\u001b[0;34m.\u001b[0m\u001b[0mastype\u001b[0m\u001b[0;34m(\u001b[0m\u001b[0mnp\u001b[0m\u001b[0;34m.\u001b[0m\u001b[0mfloat64\u001b[0m\u001b[0;34m)\u001b[0m\u001b[0;34m\u001b[0m\u001b[0m\n\u001b[0m\u001b[1;32m    582\u001b[0m \u001b[0;34m\u001b[0m\u001b[0m\n\u001b[1;32m    583\u001b[0m     \u001b[0mcheck_consistent_length\u001b[0m\u001b[0;34m(\u001b[0m\u001b[0mX\u001b[0m\u001b[0;34m,\u001b[0m \u001b[0my\u001b[0m\u001b[0;34m)\u001b[0m\u001b[0;34m\u001b[0m\u001b[0m\n",
      "\u001b[0;31mValueError\u001b[0m: could not convert string to float: 'Berliner Weissbier'"
     ]
    }
   ],
   "source": [
    "%%time\n",
    "# LINEAR REGRESSION model to predict a rating based on a review\n",
    "from sklearn.linear_model import LinearRegression\n",
    "linreg = LinearRegression()\n",
    "linreg.fit(X_train, y_train)\n",
    "predicted = linreg.predict(X_test)\n",
    "difference = ( y_test - predicted )\n",
    "print(np.mean(difference))\n",
    "print(np.std(difference))"
   ]
  },
  {
   "cell_type": "code",
   "execution_count": null,
   "metadata": {
    "collapsed": true
   },
   "outputs": [],
   "source": []
  },
  {
   "cell_type": "code",
   "execution_count": 26,
   "metadata": {},
   "outputs": [
    {
     "ename": "ValueError",
     "evalue": "could not convert string to float: 'Berliner Weissbier'",
     "output_type": "error",
     "traceback": [
      "\u001b[0;31m---------------------------------------------------------------------------\u001b[0m",
      "\u001b[0;31mValueError\u001b[0m                                Traceback (most recent call last)",
      "\u001b[0;32m<timed exec>\u001b[0m in \u001b[0;36m<module>\u001b[0;34m()\u001b[0m\n",
      "\u001b[0;32m~/anaconda3/lib/python3.6/site-packages/sklearn/linear_model/ridge.py\u001b[0m in \u001b[0;36mfit\u001b[0;34m(self, X, y, sample_weight)\u001b[0m\n\u001b[1;32m    663\u001b[0m         \u001b[0mself\u001b[0m \u001b[0;34m:\u001b[0m \u001b[0mreturns\u001b[0m \u001b[0man\u001b[0m \u001b[0minstance\u001b[0m \u001b[0mof\u001b[0m \u001b[0mself\u001b[0m\u001b[0;34m.\u001b[0m\u001b[0;34m\u001b[0m\u001b[0m\n\u001b[1;32m    664\u001b[0m         \"\"\"\n\u001b[0;32m--> 665\u001b[0;31m         \u001b[0;32mreturn\u001b[0m \u001b[0msuper\u001b[0m\u001b[0;34m(\u001b[0m\u001b[0mRidge\u001b[0m\u001b[0;34m,\u001b[0m \u001b[0mself\u001b[0m\u001b[0;34m)\u001b[0m\u001b[0;34m.\u001b[0m\u001b[0mfit\u001b[0m\u001b[0;34m(\u001b[0m\u001b[0mX\u001b[0m\u001b[0;34m,\u001b[0m \u001b[0my\u001b[0m\u001b[0;34m,\u001b[0m \u001b[0msample_weight\u001b[0m\u001b[0;34m=\u001b[0m\u001b[0msample_weight\u001b[0m\u001b[0;34m)\u001b[0m\u001b[0;34m\u001b[0m\u001b[0m\n\u001b[0m\u001b[1;32m    666\u001b[0m \u001b[0;34m\u001b[0m\u001b[0m\n\u001b[1;32m    667\u001b[0m \u001b[0;34m\u001b[0m\u001b[0m\n",
      "\u001b[0;32m~/anaconda3/lib/python3.6/site-packages/sklearn/linear_model/ridge.py\u001b[0m in \u001b[0;36mfit\u001b[0;34m(self, X, y, sample_weight)\u001b[0m\n\u001b[1;32m    481\u001b[0m \u001b[0;34m\u001b[0m\u001b[0m\n\u001b[1;32m    482\u001b[0m         X, y = check_X_y(X, y, ['csr', 'csc', 'coo'], dtype=_dtype,\n\u001b[0;32m--> 483\u001b[0;31m                          multi_output=True, y_numeric=True)\n\u001b[0m\u001b[1;32m    484\u001b[0m \u001b[0;34m\u001b[0m\u001b[0m\n\u001b[1;32m    485\u001b[0m         if ((sample_weight is not None) and\n",
      "\u001b[0;32m~/anaconda3/lib/python3.6/site-packages/sklearn/utils/validation.py\u001b[0m in \u001b[0;36mcheck_X_y\u001b[0;34m(X, y, accept_sparse, dtype, order, copy, force_all_finite, ensure_2d, allow_nd, multi_output, ensure_min_samples, ensure_min_features, y_numeric, warn_on_dtype, estimator)\u001b[0m\n\u001b[1;32m    579\u001b[0m         \u001b[0m_assert_all_finite\u001b[0m\u001b[0;34m(\u001b[0m\u001b[0my\u001b[0m\u001b[0;34m)\u001b[0m\u001b[0;34m\u001b[0m\u001b[0m\n\u001b[1;32m    580\u001b[0m     \u001b[0;32mif\u001b[0m \u001b[0my_numeric\u001b[0m \u001b[0;32mand\u001b[0m \u001b[0my\u001b[0m\u001b[0;34m.\u001b[0m\u001b[0mdtype\u001b[0m\u001b[0;34m.\u001b[0m\u001b[0mkind\u001b[0m \u001b[0;34m==\u001b[0m \u001b[0;34m'O'\u001b[0m\u001b[0;34m:\u001b[0m\u001b[0;34m\u001b[0m\u001b[0m\n\u001b[0;32m--> 581\u001b[0;31m         \u001b[0my\u001b[0m \u001b[0;34m=\u001b[0m \u001b[0my\u001b[0m\u001b[0;34m.\u001b[0m\u001b[0mastype\u001b[0m\u001b[0;34m(\u001b[0m\u001b[0mnp\u001b[0m\u001b[0;34m.\u001b[0m\u001b[0mfloat64\u001b[0m\u001b[0;34m)\u001b[0m\u001b[0;34m\u001b[0m\u001b[0m\n\u001b[0m\u001b[1;32m    582\u001b[0m \u001b[0;34m\u001b[0m\u001b[0m\n\u001b[1;32m    583\u001b[0m     \u001b[0mcheck_consistent_length\u001b[0m\u001b[0;34m(\u001b[0m\u001b[0mX\u001b[0m\u001b[0;34m,\u001b[0m \u001b[0my\u001b[0m\u001b[0;34m)\u001b[0m\u001b[0;34m\u001b[0m\u001b[0m\n",
      "\u001b[0;31mValueError\u001b[0m: could not convert string to float: 'Berliner Weissbier'"
     ]
    }
   ],
   "source": [
    "%%time\n",
    "# RIDGE regression\n",
    "from sklearn.linear_model import Ridge\n",
    "\n",
    "ridge = Ridge(alpha= 0.1, tol= 0.01, normalize = True)\n",
    "ridge.fit(X_train, y_train)\n",
    "ridge_pred = ridge.predict(X_test)\n",
    "print('ridge score:',ridge.score(X_test, y_test))\n",
    "ridge_difference = y_test-ridge_pred\n",
    "print('mean:',np.mean(ridge_difference))\n",
    "print('std:', np.std(ridge_difference))"
   ]
  },
  {
   "cell_type": "code",
   "execution_count": null,
   "metadata": {
    "collapsed": true
   },
   "outputs": [],
   "source": []
  },
  {
   "cell_type": "code",
   "execution_count": 444,
   "metadata": {},
   "outputs": [
    {
     "name": "stdout",
     "output_type": "stream",
     "text": [
      "best cross-val score: 0.49\n",
      "best params: {'alpha': 0.1, 'tol': 0.01}\n",
      "CPU times: user 43.2 s, sys: 1.49 s, total: 44.7 s\n",
      "Wall time: 45.4 s\n"
     ]
    }
   ],
   "source": [
    "%%time\n",
    "###  GRID search RIDGE\n",
    "from sklearn.model_selection import GridSearchCV\n",
    "\n",
    "param_grid = {'alpha': [0.1, 1, 10],'tol':[1, 0.1,0.01]}\n",
    "grid = GridSearchCV(Ridge(), param_grid, cv=5)\n",
    "grid.fit(X_train, y_train)\n",
    "print('best cross-val score: {:.2f}'.format(grid.best_score_))\n",
    "print('best params:', grid.best_params_)"
   ]
  },
  {
   "cell_type": "code",
   "execution_count": null,
   "metadata": {
    "collapsed": true
   },
   "outputs": [],
   "source": []
  },
  {
   "cell_type": "code",
   "execution_count": 449,
   "metadata": {},
   "outputs": [
    {
     "name": "stdout",
     "output_type": "stream",
     "text": [
      "-0.000133983689325\n",
      "0.328980031385\n",
      "CPU times: user 5.69 s, sys: 47.8 ms, total: 5.74 s\n",
      "Wall time: 5.95 s\n"
     ]
    }
   ],
   "source": [
    "%%time\n",
    "# LASSO  \n",
    "from sklearn.linear_model import Lasso\n",
    "lasso = Lasso(alpha=0.0001, tol=1)\n",
    "lasso.fit(X_train, y_train)\n",
    "predicted = lasso.predict(X_test)\n",
    "difference = y_test-predicted  \n",
    "print(np.mean(difference))\n",
    "print(np.std(difference))"
   ]
  },
  {
   "cell_type": "code",
   "execution_count": 450,
   "metadata": {},
   "outputs": [
    {
     "name": "stdout",
     "output_type": "stream",
     "text": [
      "best params: {'alpha': 0.0001, 'tol': 1}\n",
      "CPU times: user 5min 1s, sys: 1.59 s, total: 5min 3s\n",
      "Wall time: 5min 5s\n"
     ]
    }
   ],
   "source": [
    "%%time\n",
    "# GRID search LASSO\n",
    "param_grid = {'alpha': [0.00001, 0.0001, 0.001],'tol':[0.1, 1, 10]}\n",
    "grid = GridSearchCV(Lasso(), param_grid, cv=5)\n",
    "grid.fit(X_train, y_train)\n",
    "print('best params:', grid.best_params_)"
   ]
  },
  {
   "cell_type": "code",
   "execution_count": null,
   "metadata": {
    "collapsed": true
   },
   "outputs": [],
   "source": []
  },
  {
   "cell_type": "code",
   "execution_count": 463,
   "metadata": {},
   "outputs": [
    {
     "name": "stdout",
     "output_type": "stream",
     "text": [
      "random sample mean: 0.00238704963056\n",
      "random sample std dev: 0.625903532274\n"
     ]
    }
   ],
   "source": [
    "# RANDOM predict random results for a benchmark\n",
    "y_mean = np.mean(y_test)\n",
    "y_std = np.std(y_test)\n",
    "samples= np.random.normal(y_mean,y_std,len(y_test))\n",
    "diff = y_test-samples\n",
    "print('random sample mean:',np.mean(diff))\n",
    "print('random sample std dev:',np.std(diff))"
   ]
  },
  {
   "cell_type": "code",
   "execution_count": 451,
   "metadata": {},
   "outputs": [
    {
     "data": {
      "image/png": "[encoded data removed]",
      "text/plain": [
       "<matplotlib.figure.Figure at 0x1a24e1ce80>"
      ]
     },
     "metadata": {},
     "output_type": "display_data"
    },
    {
     "name": "stdout",
     "output_type": "stream",
     "text": [
      "mean: -0.000133983689325\n",
      "std: 0.328980031385\n"
     ]
    }
   ],
   "source": [
    "# difference of model from user rating\n",
    "import matplotlib.pyplot as plt\n",
    "_= plt.figure(figsize=(20,5))\n",
    "_= plt.hist(difference, bins=35, edgecolor=\"k\")\n",
    "_= plt.xticks(size=15)\n",
    "_= plt.yticks(size=15)\n",
    "_= plt.xlabel('difference', size=17)\n",
    "_= plt.ylabel('count', size=17)\n",
    "_= plt.title('Predicted rating vs Actual rating', size=17)\n",
    "plt.show()\n",
    "mean_diff = np.mean(difference)\n",
    "std_diff = np.std(difference)\n",
    "print('mean:',mean_diff)\n",
    "print('std:',std_diff)"
   ]
  },
  {
   "cell_type": "code",
   "execution_count": 407,
   "metadata": {},
   "outputs": [
    {
     "data": {
      "image/png": "[encoded data removed]",
      "text/plain": [
       "<matplotlib.figure.Figure at 0x1a36fc4518>"
      ]
     },
     "metadata": {},
     "output_type": "display_data"
    },
    {
     "name": "stdout",
     "output_type": "stream",
     "text": [
      "mean: 0.0012147733151\n",
      "std: 0.367829445211\n"
     ]
    }
   ],
   "source": [
    "# difference of model from user rating for RIDGE\n",
    "import matplotlib.pyplot as plt\n",
    "_= plt.figure(figsize=(20,5))\n",
    "_= plt.hist(ridge_difference, bins=35, edgecolor=\"k\")\n",
    "_= plt.xticks(size=15)\n",
    "_= plt.yticks(size=15)\n",
    "_= plt.xlabel('ridge_difference', size=17)\n",
    "_= plt.ylabel('count', size=17)\n",
    "_= plt.title('Predicted rating vs Actual rating', size=17)\n",
    "plt.show()\n",
    "mean_diff = np.mean(ridge_difference)\n",
    "std_diff = np.std(ridge_difference)\n",
    "print('mean:',mean_diff)\n",
    "print('std:',std_diff)"
   ]
  },
  {
   "cell_type": "code",
   "execution_count": 455,
   "metadata": {},
   "outputs": [
    {
     "data": {
      "image/png": "[encoded data removed]",
      "text/plain": [
       "<matplotlib.figure.Figure at 0x1a3b7f1d68>"
      ]
     },
     "metadata": {},
     "output_type": "display_data"
    }
   ],
   "source": [
    "# difference of model from user rating\n",
    "import matplotlib.pyplot as plt\n",
    "_= plt.figure(figsize=(20,5))\n",
    "_= plt.hist(y_test, bins=35, edgecolor=\"k\")\n",
    "_= plt.xticks(size=15)\n",
    "_= plt.yticks(size=15)\n",
    "_= plt.xlabel('y_test', size=17)\n",
    "_= plt.ylabel('count', size=17)\n",
    "_= plt.title('y-test distribution', size=17)\n",
    "plt.show()"
   ]
  },
  {
   "cell_type": "code",
   "execution_count": 454,
   "metadata": {},
   "outputs": [
    {
     "data": {
      "image/png": "[encoded data removed]",
      "text/plain": [
       "<matplotlib.figure.Figure at 0x1a47812518>"
      ]
     },
     "metadata": {},
     "output_type": "display_data"
    }
   ],
   "source": [
    "import matplotlib.pyplot as plt\n",
    "_= plt.figure(figsize=(20,5))\n",
    "_= plt.hist(predicted, bins=35, edgecolor=\"k\")\n",
    "_= plt.xticks(size=15)\n",
    "_= plt.yticks(size=15)\n",
    "_= plt.xlabel('predicted', size=17)\n",
    "_= plt.ylabel('count', size=17)\n",
    "_= plt.title('Predicted distribution', size=17)\n",
    "plt.show()"
   ]
  },
  {
   "cell_type": "code",
   "execution_count": null,
   "metadata": {
    "collapsed": true
   },
   "outputs": [],
   "source": []
  },
  {
   "cell_type": "code",
   "execution_count": 457,
   "metadata": {},
   "outputs": [
    {
     "name": "stdout",
     "output_type": "stream",
     "text": [
      "0.0120194667192\n",
      "0.627979976671\n"
     ]
    }
   ],
   "source": []
  },
  {
   "cell_type": "code",
   "execution_count": null,
   "metadata": {
    "collapsed": true
   },
   "outputs": [],
   "source": []
  },
  {
   "cell_type": "code",
   "execution_count": null,
   "metadata": {
    "collapsed": true
   },
   "outputs": [],
   "source": []
  },
  {
   "cell_type": "code",
   "execution_count": null,
   "metadata": {
    "collapsed": true
   },
   "outputs": [],
   "source": []
  },
  {
   "cell_type": "code",
   "execution_count": null,
   "metadata": {
    "collapsed": true
   },
   "outputs": [],
   "source": []
  }
 ],
 "metadata": {
  "kernelspec": {
   "display_name": "Python 3",
   "language": "python",
   "name": "python3"
  },
  "language_info": {
   "codemirror_mode": {
    "name": "ipython",
    "version": 3
   },
   "file_extension": ".py",
   "mimetype": "text/x-python",
   "name": "python",
   "nbconvert_exporter": "python",
   "pygments_lexer": "ipython3",
   "version": "3.6.3"
  }
 },
 "nbformat": 4,
 "nbformat_minor": 2
}
