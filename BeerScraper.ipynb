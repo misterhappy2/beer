{
 "cells": [
  {
   "cell_type": "markdown",
   "metadata": {},
   "source": [
    "<h3> from GitHub jtrawinski/BeerScraper   \n",
    "<center>BeerScraper </center> </h3>  \n",
    "Python code to scrape BeerAdvocate reviews\n",
    "This currently fully working, however it is still a work in progress. Eventually this will be used to construct a huge dataset of beer word-frequency data, which will then be used to build a beer recommendation system.\n",
    "\n",
    "To-Do:\n",
    "\n",
    "Consider removing words with very few mentions (likely to be typos or made-up words) [easy]\n",
    "Add functionality to manually add new beers to dataset [easy]"
   ]
  },
  {
   "cell_type": "code",
   "execution_count": null,
   "metadata": {
    "collapsed": true
   },
   "outputs": [],
   "source": []
  },
  {
   "cell_type": "code",
   "execution_count": 31,
   "metadata": {},
   "outputs": [
    {
     "ename": "ModuleNotFoundError",
     "evalue": "No module named 'Beer'",
     "output_type": "error",
     "traceback": [
      "\u001b[0;31m---------------------------------------------------------------------------\u001b[0m",
      "\u001b[0;31mModuleNotFoundError\u001b[0m                       Traceback (most recent call last)",
      "\u001b[0;32m<ipython-input-31-7620c36c56e2>\u001b[0m in \u001b[0;36m<module>\u001b[0;34m()\u001b[0m\n\u001b[0;32m----> 1\u001b[0;31m \u001b[0;32mfrom\u001b[0m \u001b[0mBeer\u001b[0m \u001b[0;32mimport\u001b[0m \u001b[0mBeer\u001b[0m\u001b[0;34m\u001b[0m\u001b[0m\n\u001b[0m\u001b[1;32m      2\u001b[0m \u001b[0;32mimport\u001b[0m \u001b[0mnumpy\u001b[0m \u001b[0;32mas\u001b[0m \u001b[0mnp\u001b[0m\u001b[0;34m\u001b[0m\u001b[0m\n\u001b[1;32m      3\u001b[0m \u001b[0;32mimport\u001b[0m \u001b[0mpandas\u001b[0m \u001b[0;32mas\u001b[0m \u001b[0mpd\u001b[0m\u001b[0;34m\u001b[0m\u001b[0m\n\u001b[1;32m      4\u001b[0m \u001b[0;32mfrom\u001b[0m \u001b[0msklearn\u001b[0m\u001b[0;34m.\u001b[0m\u001b[0mfeature_extraction\u001b[0m\u001b[0;34m.\u001b[0m\u001b[0mtext\u001b[0m \u001b[0;32mimport\u001b[0m \u001b[0mTfidfTransformer\u001b[0m\u001b[0;34m\u001b[0m\u001b[0m\n\u001b[1;32m      5\u001b[0m \u001b[0;34m\u001b[0m\u001b[0m\n",
      "\u001b[0;31mModuleNotFoundError\u001b[0m: No module named 'Beer'"
     ]
    }
   ],
   "source": [
    "from Beer import Beer\n",
    "import numpy as np\n",
    "import pandas as pd\n",
    "from sklearn.feature_extraction.text import TfidfTransformer\n",
    "\n",
    "\"\"\"\n",
    "Use Beer objects to create word-frequency dataframe with n_samples randomly chosen beers\"\"\"\n",
    "\n",
    "def create_data(n_samples=10000):\n",
    "    MAX_ID = 325000\n",
    "    rand_ints = np.random.choice(MAX_ID, size=n_samples, replace=False)\n",
    "    # beer id is uniquely determined by second number, so the 5 is arbitrary\n",
    "    beer_ids = [\"/5/\" + str(n) + \"/\" for n in rand_ints]\n",
    "    data = pd.DataFrame()\n",
    "    for b_id in beer_ids:\n",
    "        print(b_id)\n",
    "        print('  ')\n",
    "        print(Beer(b_id))\n",
    "        beer = Beer[Beer(b_id)]\n",
    "        if beer.name is None:\n",
    "            # BeerID resulted in error\n",
    "            continue\n",
    "        df = beer.create_df()\n",
    "        data = data.append(df, ignore_index=True)\n",
    "    # If a given beer doesn't have a word that another one has, it will result\n",
    "    # in NaN entry. This replaces NaN with 0.\n",
    "    data = data.fillna(0)\n",
    "\n",
    "    # Rearranging columns so non-word-frequency columns are first\n",
    "    cols = data.columns.tolist()\n",
    "    [cols.insert(0, cols.pop(cols.index(col))) for col in [\"rating\", \"style\", \"brewery\", \"name\"]]\n",
    "    data = data[cols]\n",
    "\n",
    "    # Filtering to remove not-very-useful columns (words) or rows (beers)\n",
    "    # Remove rows with rating = 0, which means no one rated this beer\n",
    "    rated_0_idx = data[data['rating'] == 0].index\n",
    "    data = data.drop(rated_0_idx)\n",
    "    # Reset indices for easy merging later\n",
    "    data = data.reset_index(drop=True)\n",
    "\n",
    "    # Do tf-idf transformation\n",
    "    transformer = TfidfTransformer()\n",
    "    tfidf = transformer.fit_transform(data.iloc[:, 4:].values)\n",
    "    tfidf_df = pd.DataFrame(tfidf.toarray())\n",
    "    # Fix column names\n",
    "    tfidf_df = pd.concat([data.iloc[:, 0:4], tfidf_df], axis=1, ignore_index=True)\n",
    "    tfidf_df.columns = cols\n",
    "\n",
    "    return tfidf_df"
   ]
  },
  {
   "cell_type": "code",
   "execution_count": null,
   "metadata": {
    "collapsed": true
   },
   "outputs": [],
   "source": []
  },
  {
   "cell_type": "code",
   "execution_count": 20,
   "metadata": {},
   "outputs": [
    {
     "name": "stdout",
     "output_type": "stream",
     "text": [
      "/5/316891/\n",
      "  \n",
      "<__main__.Beer object at 0x1a14d9ebe0>\n"
     ]
    },
    {
     "ename": "TypeError",
     "evalue": "'type' object is not subscriptable",
     "output_type": "error",
     "traceback": [
      "\u001b[0;31m---------------------------------------------------------------------------\u001b[0m",
      "\u001b[0;31mTypeError\u001b[0m                                 Traceback (most recent call last)",
      "\u001b[0;32m<ipython-input-20-a9f677765c64>\u001b[0m in \u001b[0;36m<module>\u001b[0;34m()\u001b[0m\n\u001b[0;32m----> 1\u001b[0;31m \u001b[0mcreate_data\u001b[0m\u001b[0;34m(\u001b[0m\u001b[0mn_samples\u001b[0m\u001b[0;34m=\u001b[0m\u001b[0;36m10\u001b[0m\u001b[0;34m)\u001b[0m\u001b[0;34m\u001b[0m\u001b[0m\n\u001b[0m",
      "\u001b[0;32m<ipython-input-19-c23136c55902>\u001b[0m in \u001b[0;36mcreate_data\u001b[0;34m(n_samples)\u001b[0m\n\u001b[1;32m     17\u001b[0m         \u001b[0mprint\u001b[0m\u001b[0;34m(\u001b[0m\u001b[0;34m'  '\u001b[0m\u001b[0;34m)\u001b[0m\u001b[0;34m\u001b[0m\u001b[0m\n\u001b[1;32m     18\u001b[0m         \u001b[0mprint\u001b[0m\u001b[0;34m(\u001b[0m\u001b[0mBeer\u001b[0m\u001b[0;34m(\u001b[0m\u001b[0mb_id\u001b[0m\u001b[0;34m)\u001b[0m\u001b[0;34m)\u001b[0m\u001b[0;34m\u001b[0m\u001b[0m\n\u001b[0;32m---> 19\u001b[0;31m         \u001b[0mbeer\u001b[0m \u001b[0;34m=\u001b[0m \u001b[0mBeer\u001b[0m\u001b[0;34m[\u001b[0m\u001b[0mBeer\u001b[0m\u001b[0;34m(\u001b[0m\u001b[0mb_id\u001b[0m\u001b[0;34m)\u001b[0m\u001b[0;34m]\u001b[0m\u001b[0;34m\u001b[0m\u001b[0m\n\u001b[0m\u001b[1;32m     20\u001b[0m         \u001b[0;32mif\u001b[0m \u001b[0mbeer\u001b[0m\u001b[0;34m.\u001b[0m\u001b[0mname\u001b[0m \u001b[0;32mis\u001b[0m \u001b[0;32mNone\u001b[0m\u001b[0;34m:\u001b[0m\u001b[0;34m\u001b[0m\u001b[0m\n\u001b[1;32m     21\u001b[0m             \u001b[0;31m# BeerID resulted in error\u001b[0m\u001b[0;34m\u001b[0m\u001b[0;34m\u001b[0m\u001b[0m\n",
      "\u001b[0;31mTypeError\u001b[0m: 'type' object is not subscriptable"
     ]
    }
   ],
   "source": [
    "create_data(n_samples=10)"
   ]
  },
  {
   "cell_type": "code",
   "execution_count": null,
   "metadata": {
    "collapsed": true
   },
   "outputs": [],
   "source": []
  }
 ],
 "metadata": {
  "kernelspec": {
   "display_name": "Python 3",
   "language": "python",
   "name": "python3"
  },
  "language_info": {
   "codemirror_mode": {
    "name": "ipython",
    "version": 3
   },
   "file_extension": ".py",
   "mimetype": "text/x-python",
   "name": "python",
   "nbconvert_exporter": "python",
   "pygments_lexer": "ipython3",
   "version": "3.6.3"
  }
 },
 "nbformat": 4,
 "nbformat_minor": 2
}
